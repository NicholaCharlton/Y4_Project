{
 "cells": [
  {
   "cell_type": "code",
   "execution_count": null,
   "id": "10ae8dae-8079-4a09-a2dd-6e31fa7cb5e1",
   "metadata": {},
   "outputs": [],
   "source": [
    "import csv\n",
    "import numpy as np\n",
    "from hoki import load\n",
    "import scipy.integrate\n",
    "import illustris_python as il\n",
    "import matplotlib.pyplot as plt"
   ]
  },
  {
   "cell_type": "code",
   "execution_count": null,
   "id": "8d8ce7e6-adde-44d3-a05c-7f41bea6f4ec",
   "metadata": {},
   "outputs": [],
   "source": [
    "snapshots = np.linspace(0, 99, 100)\n",
    "basePath = './sims.TNG/TNG100-1/output/'\n",
    "fields = ['SubhaloGasMetallicitySfrWeighted', 'SubhaloFlag', 'SubhaloSFRinMaxRad', 'SubhaloMass']"
   ]
  },
  {
   "cell_type": "code",
   "execution_count": null,
   "id": "89de40b0-3e6a-4361-8f96-44a7ceba5663",
   "metadata": {},
   "outputs": [],
   "source": [
    "Z_lower = [0.00000, 0.00005, 0.0005, 0.0015, 0.0025, 0.0035, 0.005, 0.007, 0.009, 0.012, 0.017, 0.025, 0.035]\n",
    "Z_upper = [0.00005, 0.00050, 0.0015, 0.0025, 0.0035, 0.0050, 0.007, 0.009, 0.012, 0.017, 0.025, 0.035, 10.00]"
   ]
  },
  {
   "cell_type": "code",
   "execution_count": null,
   "id": "e1508367-f565-45ca-8d89-9b12f3c1efd9",
   "metadata": {},
   "outputs": [],
   "source": [
    "all_sfr_Zem5 = []\n",
    "all_sfr_Zem4 = []\n",
    "all_sfr_Z001 = []\n",
    "all_sfr_Z002 = []\n",
    "all_sfr_Z003 = []\n",
    "all_sfr_Z004 = []\n",
    "all_sfr_Z006 = []\n",
    "all_sfr_Z008 = []\n",
    "all_sfr_Z010 = []\n",
    "all_sfr_Z014 = []\n",
    "all_sfr_Z020 = []\n",
    "all_sfr_Z030 = []\n",
    "all_sfr_Z040 = []"
   ]
  },
  {
   "cell_type": "code",
   "execution_count": null,
   "id": "0b7aec59-5c7e-4839-bd69-3dc67eba4594",
   "metadata": {},
   "outputs": [],
   "source": [
    "for snapshot in snapshots:\n",
    "    subhalo = il.groupcat.loadSubhalos(basePath, int(snapshot), fields=fields)\n",
    "    subhalo_list = []\n",
    "    for subhaloID, Z in enumerate(subhalo['SubhaloGasMetallicitySfrWeighted']):\n",
    "        if subhalo['SubhaloFlag'][subhaloID]:\n",
    "            if 0.01 < subhalo['SubhaloMass'][subhaloID] < 0.1:\n",
    "                subhalo_list.append([Z, subhalo['SubhaloSFRinMaxRad'][subhaloID]])\n",
    "    sfr_Zem5 = []\n",
    "    sfr_Zem4 = []\n",
    "    sfr_Z001 = []\n",
    "    sfr_Z002 = []\n",
    "    sfr_Z003 = []\n",
    "    sfr_Z004 = []\n",
    "    sfr_Z006 = []\n",
    "    sfr_Z008 = []\n",
    "    sfr_Z010 = []\n",
    "    sfr_Z014 = []\n",
    "    sfr_Z020 = []\n",
    "    sfr_Z030 = []\n",
    "    sfr_Z040 = []            \n",
    "    for sub in subhalo_list:\n",
    "        if Z_lower[0] <= sub[0] < Z_upper[0]:\n",
    "            sfr_Zem5.append(sub[1])\n",
    "        if Z_lower[1] <= sub[0] < Z_upper[1]:\n",
    "            sfr_Zem4.append(sub[1])\n",
    "        if Z_lower[2] <= sub[0] < Z_upper[2]:\n",
    "            sfr_Z001.append(sub[1])        \n",
    "        if Z_lower[3] <= sub[0] < Z_upper[3]:\n",
    "            sfr_Z002.append(sub[1])        \n",
    "        if Z_lower[4] <= sub[0] < Z_upper[4]:\n",
    "            sfr_Z003.append(sub[1])        \n",
    "        if Z_lower[5] <= sub[0] < Z_upper[5]:\n",
    "            sfr_Z004.append(sub[1])\n",
    "        if Z_lower[6] <= sub[0] < Z_upper[6]:\n",
    "            sfr_Z006.append(sub[1])        \n",
    "        if Z_lower[7] <= sub[0] < Z_upper[7]:\n",
    "            sfr_Z008.append(sub[1])        \n",
    "        if Z_lower[8] <= sub[0] < Z_upper[8]:\n",
    "            sfr_Z010.append(sub[1])        \n",
    "        if Z_lower[9] <= sub[0] < Z_upper[9]:\n",
    "            sfr_Z014.append(sub[1])        \n",
    "        if Z_lower[10] <= sub[0] < Z_upper[10]:\n",
    "            sfr_Z020.append(sub[1])        \n",
    "        if Z_lower[11] <= sub[0] < Z_upper[11]:\n",
    "            sfr_Z030.append(sub[1])                \n",
    "        if Z_lower[12] <= sub[0] < Z_upper[12]:\n",
    "            sfr_Z040.append(sub[1])\n",
    "    all_sfr_Zem5.append(sum(sfr_Zem5))\n",
    "    all_sfr_Zem4.append(sum(sfr_Zem4))\n",
    "    all_sfr_Z001.append(sum(sfr_Z001))\n",
    "    all_sfr_Z002.append(sum(sfr_Z002))\n",
    "    all_sfr_Z003.append(sum(sfr_Z003))\n",
    "    all_sfr_Z004.append(sum(sfr_Z004))\n",
    "    all_sfr_Z006.append(sum(sfr_Z006))\n",
    "    all_sfr_Z008.append(sum(sfr_Z008))\n",
    "    all_sfr_Z010.append(sum(sfr_Z010))\n",
    "    all_sfr_Z014.append(sum(sfr_Z014))\n",
    "    all_sfr_Z020.append(sum(sfr_Z020))\n",
    "    all_sfr_Z030.append(sum(sfr_Z030))\n",
    "    all_sfr_Z040.append(sum(sfr_Z040))\n",
    "    print(snapshot)"
   ]
  },
  {
   "cell_type": "code",
   "execution_count": null,
   "id": "cbffae8a-ffd5-42ce-8d60-e38ec5f79e7c",
   "metadata": {},
   "outputs": [],
   "source": [
    "file = open(f'./mass7_limz_v2', 'w')\n",
    "writer = csv.writer(file)\n",
    "writer.writerow([all_sfr_Zem5, all_sfr_Zem4, all_sfr_Z001, all_sfr_Z002, all_sfr_Z003, all_sfr_Z004, all_sfr_Z006, all_sfr_Z008, all_sfr_Z010, \n",
    "                 all_sfr_Z014, all_sfr_Z020, all_sfr_Z030, all_sfr_Z040])\n",
    "file.close()"
   ]
  }
 ],
 "metadata": {
  "kernelspec": {
   "display_name": "Python 3 (ipykernel)",
   "language": "python",
   "name": "python3"
  },
  "language_info": {
   "codemirror_mode": {
    "name": "ipython",
    "version": 3
   },
   "file_extension": ".py",
   "mimetype": "text/x-python",
   "name": "python",
   "nbconvert_exporter": "python",
   "pygments_lexer": "ipython3",
   "version": "3.11.4"
  }
 },
 "nbformat": 4,
 "nbformat_minor": 5
}
