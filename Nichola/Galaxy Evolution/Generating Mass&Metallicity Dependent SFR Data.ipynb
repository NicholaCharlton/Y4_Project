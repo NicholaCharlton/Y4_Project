{
 "cells": [
  {
   "cell_type": "code",
   "execution_count": 1,
   "id": "f235fab9-3ceb-44b4-9d4f-81a186287cc7",
   "metadata": {},
   "outputs": [],
   "source": [
    "import csv\n",
    "import h5py\n",
    "import random\n",
    "import requests\n",
    "import numpy as np\n",
    "import scipy.integrate\n",
    "from hoki.constants import *\n",
    "import illustris_python as il\n",
    "import matplotlib.pyplot as plt"
   ]
  },
  {
   "cell_type": "code",
   "execution_count": 2,
   "id": "e613df86-36b3-4d3c-87cc-372b310fed2a",
   "metadata": {},
   "outputs": [],
   "source": [
    "def get(path, params=None):\n",
    "    r = requests.get(path, params=params, headers={\"api-key\":\"ac0fbfe1251d6f93c582c5490527df5d\"})\n",
    "    r.raise_for_status()  # raise exception if the request does not succeed (does not get HTTP code 200)\n",
    "    if r.headers['content-type'] == 'application/json':\n",
    "        return r.json() # parse json responses automatically\n",
    "    if 'content-disposition' in r.headers:\n",
    "        filename = r.headers['content-disposition'].split(\"filename=\")[1]\n",
    "        with open(filename, 'wb') as f:\n",
    "            f.write(r.content)\n",
    "        return filename # return the filename string\n",
    "    return r"
   ]
  },
  {
   "cell_type": "code",
   "execution_count": null,
   "id": "31b21d52-8d84-448e-baed-4854856c0c3c",
   "metadata": {},
   "outputs": [],
   "source": [
    "r = get('http://www.tng-project.org/api/')\n",
    "sim = get(r['simulations'][6]['url'])\n",
    "snaps = get(sim['snapshots'])  # retrieves snapshot information (snapshot number, redshift, number of subhalos, and url)\n",
    "snap = get(snaps[99]['url'])  # retrieves global information for snapshot 99 in TNG100-1\n",
    "subhalos = get(snap['subhalos'], {'limit':894940, 'order_by':'-mass'})  # retrieves subhalo information (list of [limit:num] subhalos)"
   ]
  },
  {
   "cell_type": "code",
   "execution_count": null,
   "id": "dc574a10-bead-4074-86a4-eb0d1e930da7",
   "metadata": {},
   "outputs": [],
   "source": [
    "print(get(subhalos['results'][290668]['url']))  # finds exact info of subhalo"
   ]
  },
  {
   "cell_type": "code",
   "execution_count": 4,
   "id": "e5840277-ba8d-43d4-8e5b-353365dcd5f0",
   "metadata": {},
   "outputs": [],
   "source": [
    "Z_lower = [0.00000, 0.00005, 0.0005, 0.0015, 0.0025, 0.0035, 0.005, 0.007, 0.009, 0.012, 0.017, 0.025, 0.035]\n",
    "Z_upper = [0.00005, 0.00050, 0.0015, 0.0025, 0.0035, 0.0050, 0.007, 0.009, 0.012, 0.017, 0.025, 0.035, 10.00]"
   ]
  },
  {
   "cell_type": "code",
   "execution_count": 5,
   "id": "559375cd-5b89-45f6-bf9b-8da49deeffe0",
   "metadata": {},
   "outputs": [],
   "source": [
    "mass4_Z040 = []\n",
    "mass4_Z030 = []\n",
    "mass4_Z020 = []\n",
    "mass4_Z014 = []\n",
    "mass4_Z010 = []\n",
    "mass4_Z008 = []\n",
    "mass4_Z006 = []\n",
    "mass4_Z004 = []\n",
    "mass4_Z003 = []\n",
    "mass4_Z002 = []\n",
    "mass4_Z001 = []\n",
    "mass4_Zem4 = []\n",
    "mass4_Zem5 = []"
   ]
  },
  {
   "cell_type": "code",
   "execution_count": null,
   "id": "48d9df16-cd1c-4d89-a3cd-3406c39de129",
   "metadata": {},
   "outputs": [],
   "source": [
    "for subhaloID in np.linspace(13797, 99678, 85881, endpoint=False):\n",
    "    subhalo = get(subhalos['results'][int(subhaloID)]['url'])\n",
    "    if 1 <= subhalo['mass'] < 10:\n",
    "        if Z_lower[0] <= subhalo['gasmetallicitysfrweighted'] < Z_upper[0]:\n",
    "            mass4_Zem5.append(subhalo['id'])\n",
    "        if Z_lower[1] <= subhalo['gasmetallicitysfrweighted'] < Z_upper[1]:\n",
    "            mass4_Zem4.append(subhalo['id'])\n",
    "        if Z_lower[2] <= subhalo['gasmetallicitysfrweighted'] < Z_upper[2]:\n",
    "            mass4_Z001.append(subhalo['id'])\n",
    "        if Z_lower[3] <= subhalo['gasmetallicitysfrweighted'] < Z_upper[3]:\n",
    "            mass4_Z002.append(subhalo['id'])\n",
    "        if Z_lower[4] <= subhalo['gasmetallicitysfrweighted'] < Z_upper[4]:\n",
    "            mass4_Z003.append(subhalo['id'])\n",
    "        if Z_lower[5] <= subhalo['gasmetallicitysfrweighted'] < Z_upper[5]:\n",
    "            mass4_Z004.append(subhalo['id'])            \n",
    "        if Z_lower[6] <= subhalo['gasmetallicitysfrweighted'] < Z_upper[6]:\n",
    "            mass4_Z006.append(subhalo['id'])            \n",
    "        if Z_lower[7] <= subhalo['gasmetallicitysfrweighted'] < Z_upper[7]:\n",
    "            mass4_Z008.append(subhalo['id'])\n",
    "        if Z_lower[8] <= subhalo['gasmetallicitysfrweighted'] < Z_upper[8]:\n",
    "            mass4_Z010.append(subhalo['id'])            \n",
    "        if Z_lower[9] <= subhalo['gasmetallicitysfrweighted'] < Z_upper[9]:\n",
    "            mass4_Z014.append(subhalo['id'])            \n",
    "        if Z_lower[10] <= subhalo['gasmetallicitysfrweighted'] < Z_upper[10]:\n",
    "            mass4_Z020.append(subhalo['id'])            \n",
    "        if Z_lower[11] <= subhalo['gasmetallicitysfrweighted'] < Z_upper[11]:\n",
    "            mass4_Z030.append(subhalo['id'])            \n",
    "        if Z_lower[12] <= subhalo['gasmetallicitysfrweighted'] < Z_upper[12]:\n",
    "            mass4_Z040.append(subhalo['id'])            "
   ]
  },
  {
   "cell_type": "code",
   "execution_count": null,
   "id": "51da7a30-ea13-4370-ac8e-6434044958f8",
   "metadata": {
    "tags": []
   },
   "outputs": [],
   "source": [
    "print(len(mass4_Z040), len(mass4_Z030), len(mass4_Z020), len(mass4_Z014), len(mass4_Z010), len(mass4_Z008), len(mass4_Z006), len(mass4_Z004), \n",
    "      len(mass4_Z003), len(mass4_Z002), len(mass4_Z001), len(mass4_Zem4), len(mass4_Zem5))"
   ]
  },
  {
   "cell_type": "code",
   "execution_count": null,
   "id": "86e9940a-c894-401a-bcc3-ab3ae73cb229",
   "metadata": {
    "tags": []
   },
   "outputs": [],
   "source": [
    "basePath = './sims.TNG/TNG100-1/postprocessing'\n",
    "fields = ['SubfindID', 'SnapNum']\n",
    "tree = il.sublink.loadTree(basePath, 99, 809864, fields=fields)\n",
    "subfindIDs = tree['SubfindID']\n",
    "snapnums = tree['SnapNum']\n",
    "\n",
    "subhalo_sfr = np.empty(len(snapnums))\n",
    "for snapshot in range(0, 100):\n",
    "    path = './sims.TNG/TNG100-1/output/'\n",
    "    fields = ['SubhaloSFR', 'SubhaloGasMetallicitySfrWeighted', 'SubhaloMass']\n",
    "    subhalo = il.groupcat.loadSubhalos(path, snapshot, fields=fields)\n",
    "    for index, snapnum in enumerate(snapnums):\n",
    "        if snapnum == snapshot:\n",
    "            subhalo_sfr[index] = subhalo['SubhaloMass'][subfindIDs[index]]\n",
    "    print(snapshot)\n",
    "    \n",
    "sfr = []\n",
    "for snapshot in range(0, 100):\n",
    "    sum_sfr = []\n",
    "    for index, snapnum in enumerate(snapnums):\n",
    "        if snapnum == snapshot:\n",
    "            sum_sfr.append(subhalo_sfr[index])\n",
    "    sfr.append(np.sum(sum_sfr))\n",
    "    \n",
    "file = open(f'./mass7_Z030', 'w')\n",
    "writer = csv.writer(file)\n",
    "writer.writerow(sfr)\n",
    "file.close()"
   ]
  },
  {
   "cell_type": "code",
   "execution_count": null,
   "id": "c9c137b0-63a2-4a93-94bc-f86ee54d0a56",
   "metadata": {},
   "outputs": [],
   "source": []
  }
 ],
 "metadata": {
  "kernelspec": {
   "display_name": "Python 3 (ipykernel)",
   "language": "python",
   "name": "python3"
  },
  "language_info": {
   "codemirror_mode": {
    "name": "ipython",
    "version": 3
   },
   "file_extension": ".py",
   "mimetype": "text/x-python",
   "name": "python",
   "nbconvert_exporter": "python",
   "pygments_lexer": "ipython3",
   "version": "3.11.4"
  }
 },
 "nbformat": 4,
 "nbformat_minor": 5
}
