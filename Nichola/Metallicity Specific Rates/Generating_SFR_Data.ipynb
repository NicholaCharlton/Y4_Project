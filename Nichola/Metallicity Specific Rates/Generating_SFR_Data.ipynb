{
 "cells": [
  {
   "cell_type": "code",
   "execution_count": 1,
   "id": "ffc17b21-896e-427d-ade4-33096541b1df",
   "metadata": {},
   "outputs": [],
   "source": [
    "# generating sfr data from TNG"
   ]
  },
  {
   "cell_type": "code",
   "execution_count": 2,
   "id": "11485e1a-9f77-4136-af86-37f8ddc40e19",
   "metadata": {},
   "outputs": [],
   "source": [
    "import csv\n",
    "import numpy as np\n",
    "from hoki import load\n",
    "import scipy.integrate\n",
    "import illustris_python as il\n",
    "import matplotlib.pyplot as plt"
   ]
  },
  {
   "cell_type": "code",
   "execution_count": 3,
   "id": "573a05f6-8cd9-4a58-aa3d-7eadbc0f256b",
   "metadata": {},
   "outputs": [],
   "source": [
    "snapshot_num = 3\n",
    "basePath = './sims.TNG/TNG100-1/output/'\n",
    "fields = ['SubhaloGasMetallicitySfrWeighted', 'SubhaloStarMetallicityMaxRad', 'SubhaloFlag', 'SubhaloSFR']"
   ]
  },
  {
   "cell_type": "code",
   "execution_count": 4,
   "id": "16182a76-0bbc-42f4-8b5e-be1a04201a51",
   "metadata": {},
   "outputs": [],
   "source": [
    "Z_lower = [0.00000, 0.00005, 0.0005, 0.0015, 0.0025, 0.0035, 0.005, 0.007, 0.009, 0.012, 0.017, 0.025, 0.035]\n",
    "Z_upper = [0.00005, 0.00050, 0.0015, 0.0025, 0.0035, 0.0050, 0.007, 0.009, 0.012, 0.017, 0.025, 0.035, 10.00]"
   ]
  },
  {
   "cell_type": "code",
   "execution_count": 5,
   "id": "1c218400-e0f2-4efd-a211-76f0004d380d",
   "metadata": {},
   "outputs": [],
   "source": [
    "subhalo = il.groupcat.loadSubhalos(basePath, snapshot_num, fields=fields)"
   ]
  },
  {
   "cell_type": "code",
   "execution_count": null,
   "id": "e85bcf6e-6f59-4180-bc5a-a409a8ea5d47",
   "metadata": {},
   "outputs": [],
   "source": [
    "# "
   ]
  },
  {
   "cell_type": "code",
   "execution_count": 6,
   "id": "9cf2000b-bdad-4e63-ad81-9c93ed46a466",
   "metadata": {},
   "outputs": [],
   "source": [
    "Z040_sfr_list = []\n",
    "Z030_sfr_list = []\n",
    "Z020_sfr_list = []\n",
    "Z014_sfr_list = []\n",
    "Z010_sfr_list = []\n",
    "Z008_sfr_list = []\n",
    "Z006_sfr_list = []\n",
    "Z004_sfr_list = []\n",
    "Z003_sfr_list = []\n",
    "Z002_sfr_list = []\n",
    "Z001_sfr_list = []\n",
    "Zem4_sfr_list = []\n",
    "Zem5_sfr_list = []"
   ]
  },
  {
   "cell_type": "code",
   "execution_count": 7,
   "id": "e69777ce-3b58-44df-a255-22bd03018cf3",
   "metadata": {
    "tags": []
   },
   "outputs": [],
   "source": [
    "cosmic_origin = []"
   ]
  },
  {
   "cell_type": "code",
   "execution_count": 8,
   "id": "8ee390e1-875a-4e42-ade8-5fd691336bad",
   "metadata": {},
   "outputs": [],
   "source": [
    "for subhaloID, Z in enumerate(subhalo['SubhaloGasMetallicitySfrWeighted']):\n",
    "    if subhalo['SubhaloFlag'][subhaloID]:\n",
    "        cosmic_origin.append([subhaloID, Z])"
   ]
  },
  {
   "cell_type": "code",
   "execution_count": 9,
   "id": "a0922f4f-7985-439c-b834-ec53967171d9",
   "metadata": {
    "tags": []
   },
   "outputs": [],
   "source": [
    "for Z in cosmic_origin:\n",
    "    if Z_lower[12] <= Z[1] < Z_upper[12]:\n",
    "        single_sfr = il.groupcat.loadSingle(basePath, snapshot_num, haloID=-1, subhaloID=Z[0])['SubhaloSFR']\n",
    "        Z040_sfr_list.append(single_sfr)"
   ]
  },
  {
   "cell_type": "code",
   "execution_count": 10,
   "id": "e6396813-cef6-457d-82d7-46dfc705c7ce",
   "metadata": {
    "tags": []
   },
   "outputs": [],
   "source": [
    "for Z in cosmic_origin:\n",
    "    if Z_lower[11] <= Z[1] < Z_upper[11]:\n",
    "        single_sfr = il.groupcat.loadSingle(basePath, snapshot_num, haloID=-1, subhaloID=Z[0])['SubhaloSFR']\n",
    "        Z030_sfr_list.append(single_sfr)"
   ]
  },
  {
   "cell_type": "code",
   "execution_count": 11,
   "id": "585ed731-761f-44b7-bd8a-3404dcdfa701",
   "metadata": {},
   "outputs": [],
   "source": [
    "for Z in cosmic_origin:\n",
    "    if Z_lower[10] <= Z[1] < Z_upper[10]:\n",
    "        single_sfr = il.groupcat.loadSingle(basePath, snapshot_num, haloID=-1, subhaloID=Z[0])['SubhaloSFR']\n",
    "        Z020_sfr_list.append(single_sfr)"
   ]
  },
  {
   "cell_type": "code",
   "execution_count": 12,
   "id": "183f7be4-d3df-4412-aa7a-b50da3134c24",
   "metadata": {},
   "outputs": [],
   "source": [
    "for Z in cosmic_origin:\n",
    "    if Z_lower[9] <= Z[1] < Z_upper[9]:\n",
    "        single_sfr = il.groupcat.loadSingle(basePath, snapshot_num, haloID=-1, subhaloID=Z[0])['SubhaloSFR']\n",
    "        Z014_sfr_list.append(single_sfr)"
   ]
  },
  {
   "cell_type": "code",
   "execution_count": 13,
   "id": "6219e802-f3bf-4ae8-9f5e-4c5c2bd36757",
   "metadata": {},
   "outputs": [],
   "source": [
    "for Z in cosmic_origin:\n",
    "    if Z_lower[8] <= Z[1] < Z_upper[8]:\n",
    "        single_sfr = il.groupcat.loadSingle(basePath, snapshot_num, haloID=-1, subhaloID=Z[0])['SubhaloSFR']\n",
    "        Z010_sfr_list.append(single_sfr)"
   ]
  },
  {
   "cell_type": "code",
   "execution_count": 14,
   "id": "48290691-752b-4467-b6e9-de838df43940",
   "metadata": {},
   "outputs": [],
   "source": [
    "for Z in cosmic_origin:\n",
    "    if Z_lower[7] <= Z[1] < Z_upper[7]:\n",
    "        single_sfr = il.groupcat.loadSingle(basePath, snapshot_num, haloID=-1, subhaloID=Z[0])['SubhaloSFR']\n",
    "        Z008_sfr_list.append(single_sfr)"
   ]
  },
  {
   "cell_type": "code",
   "execution_count": 15,
   "id": "34901efc-d613-4edb-8338-b3a03eb49ccc",
   "metadata": {},
   "outputs": [],
   "source": [
    "for Z in cosmic_origin:\n",
    "    if Z_lower[6] <= Z[1] < Z_upper[6]:\n",
    "        single_sfr = il.groupcat.loadSingle(basePath, snapshot_num, haloID=-1, subhaloID=Z[0])['SubhaloSFR']\n",
    "        Z006_sfr_list.append(single_sfr)"
   ]
  },
  {
   "cell_type": "code",
   "execution_count": 16,
   "id": "182deb48-84fa-4083-967f-d1cf0e08fc79",
   "metadata": {},
   "outputs": [],
   "source": [
    "for Z in cosmic_origin:\n",
    "    if Z_lower[5] <= Z[1] < Z_upper[5]:\n",
    "        single_sfr = il.groupcat.loadSingle(basePath, snapshot_num, haloID=-1, subhaloID=Z[0])['SubhaloSFR']\n",
    "        Z004_sfr_list.append(single_sfr)"
   ]
  },
  {
   "cell_type": "code",
   "execution_count": 17,
   "id": "19ba0c07-e596-471e-9d16-b584f98901b5",
   "metadata": {},
   "outputs": [],
   "source": [
    "for Z in cosmic_origin:\n",
    "    if Z_lower[4] <= Z[1] < Z_upper[4]:\n",
    "        single_sfr = il.groupcat.loadSingle(basePath, snapshot_num, haloID=-1, subhaloID=Z[0])['SubhaloSFR']\n",
    "        Z003_sfr_list.append(single_sfr)"
   ]
  },
  {
   "cell_type": "code",
   "execution_count": 18,
   "id": "117b8620-6474-4815-b0e5-a766b7af90ff",
   "metadata": {},
   "outputs": [],
   "source": [
    "for Z in cosmic_origin:\n",
    "    if Z_lower[3] <= Z[1] < Z_upper[3]:\n",
    "        single_sfr = il.groupcat.loadSingle(basePath, snapshot_num, haloID=-1, subhaloID=Z[0])['SubhaloSFR']\n",
    "        Z002_sfr_list.append(single_sfr)"
   ]
  },
  {
   "cell_type": "code",
   "execution_count": 19,
   "id": "f89e5010-9dbe-4cc2-995f-071f109961d2",
   "metadata": {},
   "outputs": [],
   "source": [
    "for Z in cosmic_origin:\n",
    "    if Z_lower[2] <= Z[1] < Z_upper[2]:\n",
    "        single_sfr = il.groupcat.loadSingle(basePath, snapshot_num, haloID=-1, subhaloID=Z[0])['SubhaloSFR']\n",
    "        Z001_sfr_list.append(single_sfr)"
   ]
  },
  {
   "cell_type": "code",
   "execution_count": 20,
   "id": "08c38c19-53e8-4fe8-a143-0c2ae752468e",
   "metadata": {},
   "outputs": [],
   "source": [
    "for Z in cosmic_origin:\n",
    "    if Z_lower[1] <= Z[1] < Z_upper[1]:\n",
    "        single_sfr = il.groupcat.loadSingle(basePath, snapshot_num, haloID=-1, subhaloID=Z[0])['SubhaloSFR']\n",
    "        Zem4_sfr_list.append(single_sfr)"
   ]
  },
  {
   "cell_type": "code",
   "execution_count": null,
   "id": "b88de345-2bff-4855-b987-1d4454c84fd1",
   "metadata": {},
   "outputs": [],
   "source": [
    "for Z in cosmic_origin:\n",
    "    if Z_lower[0] <= Z[1] < Z_upper[0]:\n",
    "        single_sfr = il.groupcat.loadSingle(basePath, snapshot_num, haloID=-1, subhaloID=Z[0])['SubhaloSFR']\n",
    "        Zem5_sfr_list.append(single_sfr)"
   ]
  },
  {
   "cell_type": "code",
   "execution_count": null,
   "id": "c862c985-0de6-4784-8496-b7e5f1046382",
   "metadata": {},
   "outputs": [],
   "source": [
    "s_Z040 = sum(Z040_sfr_list)/100**3"
   ]
  },
  {
   "cell_type": "code",
   "execution_count": null,
   "id": "02b12d99-e542-4e4b-b4c6-aac6a84133f7",
   "metadata": {},
   "outputs": [],
   "source": [
    "s_Z030 = sum(Z030_sfr_list)/100**3"
   ]
  },
  {
   "cell_type": "code",
   "execution_count": null,
   "id": "0b17f48f-df83-465b-8946-3672668f80d5",
   "metadata": {},
   "outputs": [],
   "source": [
    "s_Z020 = sum(Z020_sfr_list)/100**3"
   ]
  },
  {
   "cell_type": "code",
   "execution_count": null,
   "id": "e15b26c4-273a-4efd-bb8a-df6c2d6e165c",
   "metadata": {},
   "outputs": [],
   "source": [
    "s_Z014 = sum(Z014_sfr_list)/100**3"
   ]
  },
  {
   "cell_type": "code",
   "execution_count": null,
   "id": "911ef437-730f-4ac4-aa9d-288332d7187b",
   "metadata": {},
   "outputs": [],
   "source": [
    "s_Z010 = sum(Z010_sfr_list)/100**3"
   ]
  },
  {
   "cell_type": "code",
   "execution_count": null,
   "id": "71dc1979-d5d0-42ab-9e02-326d449150f0",
   "metadata": {},
   "outputs": [],
   "source": [
    "s_Z008 = sum(Z008_sfr_list)/100**3"
   ]
  },
  {
   "cell_type": "code",
   "execution_count": null,
   "id": "2623e792-851b-4e1a-859b-e85fe29bc5c5",
   "metadata": {},
   "outputs": [],
   "source": [
    "s_Z006 = sum(Z006_sfr_list)/100**3"
   ]
  },
  {
   "cell_type": "code",
   "execution_count": null,
   "id": "408e8949-4644-4920-8de3-649a553bc61e",
   "metadata": {},
   "outputs": [],
   "source": [
    "s_Z004 = sum(Z004_sfr_list)/100**3"
   ]
  },
  {
   "cell_type": "code",
   "execution_count": null,
   "id": "ffb41de9-8eca-4774-9690-b63600a3a29f",
   "metadata": {},
   "outputs": [],
   "source": [
    "s_Z003 = sum(Z003_sfr_list)/100**3"
   ]
  },
  {
   "cell_type": "code",
   "execution_count": null,
   "id": "70ad6860-0849-4f0a-b51b-a55658c6a45f",
   "metadata": {},
   "outputs": [],
   "source": [
    "s_Z002 = sum(Z002_sfr_list)/100**3"
   ]
  },
  {
   "cell_type": "code",
   "execution_count": null,
   "id": "92909c45-0070-460a-9206-418920a01285",
   "metadata": {},
   "outputs": [],
   "source": [
    "s_Z001 = sum(Z001_sfr_list)/100**3"
   ]
  },
  {
   "cell_type": "code",
   "execution_count": null,
   "id": "1ea1f084-d8ec-4f71-8ba4-36a570338510",
   "metadata": {},
   "outputs": [],
   "source": [
    "s_Zem4 = sum(Zem4_sfr_list)/100**3"
   ]
  },
  {
   "cell_type": "code",
   "execution_count": null,
   "id": "9ae3b663-b87b-4a30-8752-d471a8c4b04c",
   "metadata": {},
   "outputs": [],
   "source": [
    "s_Zem5 = sum(Zem5_sfr_list)/100**3"
   ]
  },
  {
   "cell_type": "code",
   "execution_count": null,
   "id": "48217bca-f73d-4125-8c86-58864d97797b",
   "metadata": {},
   "outputs": [],
   "source": [
    "total = [s_Z040, s_Z030, s_Z020, s_Z014, s_Z010, s_Z008, s_Z006, s_Z004, s_Z003, s_Z002, s_Z001, s_Zem4, s_Zem5]"
   ]
  },
  {
   "cell_type": "code",
   "execution_count": null,
   "id": "b1091c88-27a0-419d-9b64-3b652f389964",
   "metadata": {
    "tags": []
   },
   "outputs": [],
   "source": [
    "file = open(f'./SFR_s{snapshot_num}_gas', 'w')\n",
    "writer = csv.writer(file)\n",
    "writer.writerow(total)\n",
    "file.close()"
   ]
  }
 ],
 "metadata": {
  "kernelspec": {
   "display_name": "Python 3 (ipykernel)",
   "language": "python",
   "name": "python3"
  },
  "language_info": {
   "codemirror_mode": {
    "name": "ipython",
    "version": 3
   },
   "file_extension": ".py",
   "mimetype": "text/x-python",
   "name": "python",
   "nbconvert_exporter": "python",
   "pygments_lexer": "ipython3",
   "version": "3.11.4"
  }
 },
 "nbformat": 4,
 "nbformat_minor": 5
}
