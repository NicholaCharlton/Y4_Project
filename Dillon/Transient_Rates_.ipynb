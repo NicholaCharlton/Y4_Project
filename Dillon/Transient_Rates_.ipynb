{
 "cells": [
  {
   "cell_type": "markdown",
   "metadata": {},
   "source": [
    "# Transient Rates Using BPASS Data"
   ]
  },
  {
   "cell_type": "markdown",
   "metadata": {},
   "source": [
    "This code is based on the 'Transiet rates' example Jupyter notebook found when looking into HOKI \n",
    "\n",
    "It uses BPASS v2.2.1 (specifically bpass_v2.2.1_imf135_300)\n",
    "\n",
    "The transient rates plotted correspond to the stellar populations that include binary systems for a standard (Salpeter) IMF with slope -1.35 from 0.1 to 0.5 M$_{\\odot}$ and a maximum mass of 300 solar masses \n",
    "\n",
    "\n",
    "Two different metalicities were used (Z = 0.02 and Z = 0.001) corresponding to the files:  \n",
    "\n",
    " `supernova-bin-imf135_300.z020.dat`\n",
    "\n",
    " `supernova-bin-imf135_300.z001.dat`\n",
    "\n",
    "\n",
    "Note that Z = 0.02 is referred to as z_1 and Z = 0.001 as z_2 throughout this code \n"
   ]
  },
  {
   "cell_type": "markdown",
   "metadata": {},
   "source": [
    "#### Imports"
   ]
  },
  {
   "cell_type": "code",
   "execution_count": 1,
   "metadata": {},
   "outputs": [],
   "source": [
    "from hoki import load\n",
    "import numpy as np \n",
    "import pandas as pd\n",
    "import matplotlib.pyplot as plt\n",
    "import h5py"
   ]
  },
  {
   "cell_type": "markdown",
   "metadata": {},
   "source": [
    "#### Loading in data and initial set up "
   ]
  },
  {
   "cell_type": "code",
   "execution_count": 2,
   "metadata": {},
   "outputs": [],
   "source": [
    "#Loading the binary and single star population transit rates\n",
    "bin_rates_z_1 = load.model_output('/Users/dillon/Desktop/bpass_v2.2.1_imf135_300/supernova-bin-imf135_300.z020.dat')\n",
    "bin_rates_z_2 = load.model_output('/Users/dillon/Desktop/bpass_v2.2.1_imf135_300/supernova-bin-imf135_300.z001.dat')\n",
    "\n",
    "\n",
    "bin_rates_z_1 = bin_rates_z_1[:-1]\n",
    "bin_rates_z_2 = bin_rates_z_2[:-1]\n",
    "#Ignoring the last time bin in BPASS"
   ]
  },
  {
   "cell_type": "code",
   "execution_count": 3,
   "metadata": {},
   "outputs": [],
   "source": [
    "age_z_1 = bin_rates_z_1.log_age.values\n",
    "bin_size_z_1 = bin_rates_z_1.age_yrs.values\n",
    "\n",
    "age_z_2 = bin_rates_z_2.log_age.values\n",
    "bin_size_z_2 = bin_rates_z_2.age_yrs.values"
   ]
  },
  {
   "cell_type": "markdown",
   "metadata": {},
   "source": [
    "#### CCSNe"
   ]
  },
  {
   "cell_type": "markdown",
   "metadata": {},
   "source": [
    "Core collapse supernovae comprise the type IIP, II, Ibm and Ic. The total rate is obtained by summing these columns as well as putting the single star and binary populations together  "
   ]
  },
  {
   "cell_type": "code",
   "execution_count": 4,
   "metadata": {},
   "outputs": [],
   "source": [
    "ccsne_z_1 = ( bin_rates_z_1[['IIP', 'II', 'Ib', 'Ic']].sum(axis=1))\n",
    "\n",
    "ccsne_z_2 = ( bin_rates_z_1[['IIP', 'II', 'Ib', 'Ic']].sum(axis=1))"
   ]
  },
  {
   "cell_type": "markdown",
   "metadata": {},
   "source": [
    "#### Units"
   ]
  },
  {
   "cell_type": "markdown",
   "metadata": {},
   "source": [
    "Want the rates to be plotted as **events/M$_{\\odot}$/year** so there is a need to normalise by the total mass and the number of years in each time bin\n",
    "\n",
    "BPASS calculates stellat populations with 10$^6$ M$_{\\odot}$ "
   ]
  },
  {
   "cell_type": "code",
   "execution_count": 5,
   "metadata": {},
   "outputs": [],
   "source": [
    "ccsne_norm_z_1 = ccsne_z_1/bin_size_z_1/(10**6)\n",
    "typeIa_norm_z_1 = bin_rates_z_1.Ia.values /bin_size_z_1/(10**6)\n",
    "lgrbs_norm_z_1 = bin_rates_z_1.LGRB.values /bin_size_z_1/(10**6)\n",
    "pisne_norm_z_1 = bin_rates_z_1.PISNe.values/bin_size_z_1/(10**6)\n",
    "\n",
    "ccsne_norm_z_2 = ccsne_z_2/bin_size_z_2/(10**6)\n",
    "typeIa_norm_z_2 = bin_rates_z_2.Ia.values /bin_size_z_2/(10**6)\n",
    "lgrbs_norm_z_2 = bin_rates_z_2.LGRB.values /bin_size_z_2/(10**6)\n",
    "pisne_norm_z_2 = bin_rates_z_2.PISNe.values/bin_size_z_2/(10**6)"
   ]
  },
  {
   "cell_type": "markdown",
   "metadata": {},
   "source": [
    "Plotting the transient rates"
   ]
  },
  {
   "cell_type": "code",
   "execution_count": 6,
   "metadata": {},
   "outputs": [
    {
     "data": {
      "image/png": "[encoded data removed]",
      "text/plain": [
       "<Figure size 1008x504 with 2 Axes>"
      ]
     },
     "metadata": {
      "needs_background": "light"
     },
     "output_type": "display_data"
    }
   ],
   "source": [
    "fig, (ax1, ax2) = plt.subplots(1, 2, figsize=(14, 7), sharey=True)\n",
    "\n",
    "# Plot the first subplot on ax1\n",
    "ax1.step(age_z_1, typeIa_norm_z_1, label='SN Ia')\n",
    "ax1.step(age_z_1, ccsne_norm_z_1, label='CCSNe')\n",
    "\n",
    "ax1.set_yscale(\"log\")\n",
    "\n",
    "ax1.text(9, 10**(-11), r\"Z=Z$_{\\odot}$\", fontsize=18)\n",
    "\n",
    "ax1.set_xlim(6, 11)\n",
    "ax1.set_ylim(10**(-15), 10**(-9))\n",
    "\n",
    "ax1.set_ylabel(r\"Event Rate (events/M$_{\\odot}$/year)\")\n",
    "ax1.set_xlabel(\"log(age/yrs)\")\n",
    "ax1.legend(fontsize=16)\n",
    "\n",
    "# Remove the y-axis label from the second subplot\n",
    "ax2.yaxis.set_visible(False)\n",
    "\n",
    "# Plot the second subplot on ax2\n",
    "ax2.step(age_z_2, typeIa_norm_z_2)\n",
    "ax2.step(age_z_2, ccsne_norm_z_2)\n",
    "ax2.step(age_z_2, lgrbs_norm_z_2, label='LGRB')\n",
    "ax2.step(age_z_2, pisne_norm_z_2, label='PISNe')\n",
    "\n",
    "ax2.set_yscale(\"log\")\n",
    "\n",
    "ax2.text(9, 10**(-11), r\"Z=0.05Z$_{\\odot}$\", fontsize=18)\n",
    "\n",
    "ax2.set_xlim(6, 11)\n",
    "ax2.set_ylim(10**(-15), 10**(-9))\n",
    "\n",
    "ax2.set_xlabel(\"log(age/yrs)\")\n",
    "ax2.legend(fontsize=16)\n",
    "\n",
    "# Adjust spacing between subplots\n",
    "plt.tight_layout()\n",
    "\n",
    "# Show the plot\n",
    "plt.show()\n"
   ]
  },
  {
   "cell_type": "markdown",
   "metadata": {},
   "source": [
    "The code below compares the transient rates and the delay time distributions found in Briel Figure 1 (excluding GW transients)\n",
    "\n",
    "The DTD data was found on the GItHub associated with the paper"
   ]
  },
  {
   "cell_type": "code",
   "execution_count": 7,
   "metadata": {},
   "outputs": [],
   "source": [
    "path = \"/Users/dillon/Desktop\"\n",
    "file = h5py.File(f\"{path}/data.h5\", \"r\")\n",
    "DTD = file[\"DTD\"]"
   ]
  },
  {
   "cell_type": "code",
   "execution_count": 8,
   "metadata": {},
   "outputs": [],
   "source": [
    "event_types = [\"Ia\", \"IIP\", \"II\", \"Ib\", \"Ic\", \"LGRB\", \"PISNe\", \"BBH\", \"BHNS\", \"BNS\"]\n",
    "Z1 = \"z020\" # 0.020\n",
    "Z2 = \"z001\" # 0.001\n",
    "\n",
    "\n",
    "# For each metallicity calculate the total rates, and calculate the CCSN rates + add the GW events\n",
    "event_total = {}\n",
    "for i in (Z1, Z2):\n",
    "    event_total[i] = {}\n",
    "    for j in event_types:\n",
    "        event_total[i][j] = DTD[j][i][:]\n",
    "    event_total[i][\"CCSN\"] = event_total[i][\"II\"] + event_total[i][\"Ib\"] + event_total[i][\"Ic\"] + event_total[i][\"IIP\"]"
   ]
  },
  {
   "cell_type": "code",
   "execution_count": 9,
   "metadata": {},
   "outputs": [],
   "source": [
    "x1 = event_total[Z1]\n",
    "x2 = event_total[Z2]\n",
    "x_axis = np.linspace(6.0, 11.0, 51)"
   ]
  },
  {
   "cell_type": "code",
   "execution_count": 17,
   "metadata": {},
   "outputs": [
    {
     "data": {
      "text/plain": [
       "Text(0, 0.5, 'Event Rate (events/M$_{\\\\odot}$/year)')"
      ]
     },
     "execution_count": 17,
     "metadata": {},
     "output_type": "execute_result"
    },
    {
     "data": {
      "image/png": "[encoded data removed]",
      "text/plain": [
       "<Figure size 720x504 with 1 Axes>"
      ]
     },
     "metadata": {
      "needs_background": "light"
     },
     "output_type": "display_data"
    }
   ],
   "source": [
    "plt.figure(figsize = (10,7))\n",
    "\n",
    "plt.step(age_z_1, typeIa_norm_z_1, label='SN Ia')\n",
    "plt.step(x_axis, x1[\"Ia\"], where=\"post\",color = 'powderblue', ls ='--', lw=2, label = 'DTD')\n",
    "\n",
    "\n",
    "plt.step(age_z_1, ccsne_norm_z_1, color = 'red', label='CCSNe')\n",
    "plt.step(x_axis, x1[\"CCSN\"], where=\"post\",color = 'red', ls ='--', lw=2, label = 'DTD')\n",
    "\n",
    "\n",
    "plt.yscale(\"log\")\n",
    "\n",
    "plt.text(9, 10**(-11), r\"Z=Z$_{\\odot}$\", fontsize=18)\n",
    "\n",
    "plt.legend()\n",
    "plt.xlim(6, 11)\n",
    "plt.ylim(10**(-15), 10**(-9))\n",
    "\n",
    "plt.ylabel(r\"Event Rate (events/M$_{\\odot}$/year)\")\n"
   ]
  },
  {
   "cell_type": "code",
   "execution_count": null,
   "metadata": {},
   "outputs": [],
   "source": []
  }
 ],
 "metadata": {
  "kernelspec": {
   "display_name": "Python 3",
   "language": "python",
   "name": "python3"
  },
  "language_info": {
   "codemirror_mode": {
    "name": "ipython",
    "version": 3
   },
   "file_extension": ".py",
   "mimetype": "text/x-python",
   "name": "python",
   "nbconvert_exporter": "python",
   "pygments_lexer": "ipython3",
   "version": "3.8.3"
  }
 },
 "nbformat": 4,
 "nbformat_minor": 4
}
