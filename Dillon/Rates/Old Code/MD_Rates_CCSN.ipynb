{
 "cells": [
  {
   "cell_type": "code",
   "execution_count": 1,
   "metadata": {},
   "outputs": [],
   "source": [
    "import h5py\n",
    "import numpy as np\n",
    "import matplotlib.pyplot as plt\n",
    "import matplotlib as mpl\n",
    "import pandas as pd\n",
    "import scipy.integrate as spi"
   ]
  },
  {
   "cell_type": "code",
   "execution_count": 2,
   "metadata": {},
   "outputs": [],
   "source": [
    "path = \"/Users/dillon/Desktop\"\n",
    "data = h5py.File(f\"{path}/data.h5\", \"r\")\n",
    "\n",
    "SFH = data[\"SFH\"]"
   ]
  },
  {
   "cell_type": "code",
   "execution_count": 3,
   "metadata": {},
   "outputs": [],
   "source": [
    "DTD = data[\"DTD\"]\n",
    "\n",
    "event_types = [\"Ia\", \"IIP\", \"II\", \"Ib\", \"Ic\", \"LGRB\", \"PISNe\", \"BBH\", \"BHNS\", \"BNS\"]\n",
    "metallicities = [\"z001\", \"z002\", \"z003\", \"z004\", \"z006\", \"z008\", \"z010\", \"z014\", \"z020\", \"z030\", \"z040\", \"zem4\", \"zem5\" ]\n",
    "\n",
    "\n",
    "event_total = {}\n",
    "for i in (metallicities):\n",
    "    event_total[i] = {}\n",
    "    for j in event_types:\n",
    "        event_total[i][j] = DTD[j][i][:]\n",
    "    event_total[i][\"CCSN\"] = event_total[i][\"II\"] + event_total[i][\"Ib\"] + event_total[i][\"Ic\"] + event_total[i][\"IIP\"]\n",
    "\n",
    "\n",
    "Z0 = metallicities[0] \n",
    "Z1 = metallicities[1] \n",
    "Z2 = metallicities[2] \n",
    "Z3 = metallicities[3] \n",
    "Z4 = metallicities[4] \n",
    "Z5 = metallicities[5] \n",
    "Z6 = metallicities[6] \n",
    "Z7 = metallicities[7] \n",
    "Z8 = metallicities[8] \n",
    "Z9 = metallicities[9] \n",
    "Z10 = metallicities[10] \n",
    "Z11 = metallicities[11] \n",
    "Z12 = metallicities[12] \n",
    "\n",
    "\n",
    "x0 = event_total[Z0]\n",
    "x1 = event_total[Z1]\n",
    "x2 = event_total[Z2]\n",
    "x3 = event_total[Z3]\n",
    "x4 = event_total[Z4]\n",
    "x5 = event_total[Z5]\n",
    "x6 = event_total[Z6]\n",
    "x7 = event_total[Z7]\n",
    "x8 = event_total[Z8]\n",
    "x9 = event_total[Z9]\n",
    "x10 = event_total[Z10]\n",
    "x11 = event_total[Z11]\n",
    "x12 = event_total[Z12]\n",
    "\n",
    "\n",
    "\n",
    "\n",
    "DTD_CCSN = np.array(x0[\"CCSN\"] + x1[\"CCSN\"] + + x2[\"CCSN\"] + x3[\"CCSN\"] + x4[\"CCSN\"] + x5[\"CCSN\"] + x6[\"CCSN\"] + x7[\"CCSN\"] + x8[\"CCSN\"] + x9[\"CCSN\"] + x10[\"CCSN\"] + x11[\"CCSN\"] + x12[\"CCSN\"]) \n",
    "\n",
    "\n",
    "bin_centres = data['DTD'].attrs['bin_centres']"
   ]
  },
  {
   "cell_type": "code",
   "execution_count": 4,
   "metadata": {},
   "outputs": [
    {
     "data": {
      "text/plain": [
       "51"
      ]
     },
     "execution_count": 4,
     "metadata": {},
     "output_type": "execute_result"
    }
   ],
   "source": [
    "len(DTD_CCSN)"
   ]
  },
  {
   "cell_type": "markdown",
   "metadata": {},
   "source": [
    "##### SFH"
   ]
  },
  {
   "cell_type": "code",
   "execution_count": 5,
   "metadata": {},
   "outputs": [],
   "source": [
    "z = np.linspace(0, 20, 10000)\n",
    "\n",
    "M_D = 0.015 * (1 + z)**2.7 / (1 + ((1 + z) / 2.9)**5.6)\n",
    "\n",
    "trans_M_D = 0.66 * M_D"
   ]
  },
  {
   "cell_type": "code",
   "execution_count": 6,
   "metadata": {},
   "outputs": [],
   "source": [
    "h = SFH.attrs['h']\n",
    "omega_M = SFH.attrs['omega_M']\n",
    "omega_L = SFH.attrs['omega_L']"
   ]
  },
  {
   "cell_type": "code",
   "execution_count": 7,
   "metadata": {},
   "outputs": [],
   "source": [
    "@np.vectorize\n",
    "def lookback(z, omega1, omega2, hubble):\n",
    "    \n",
    "    def f(x):\n",
    "        a = np.sqrt(omega1*(1+x)**3 + omega2)\n",
    "        return 1/((1+x)*a)\n",
    "    t_hubble = (1/(100*hubble))*3.0856776*10**19\n",
    "    return t_hubble *spi.quad(f, 0, z)[0]/(60*60*24*365.2388526*1e9)"
   ]
  },
  {
   "cell_type": "code",
   "execution_count": 8,
   "metadata": {},
   "outputs": [
    {
     "data": {
      "text/plain": [
       "Text(0.5, 0, 'Lookback Time (Gyr)')"
      ]
     },
     "execution_count": 8,
     "metadata": {},
     "output_type": "execute_result"
    },
    {
     "data": {
      "image/png": "[encoded data removed]",
      "text/plain": [
       "<Figure size 432x288 with 1 Axes>"
      ]
     },
     "metadata": {
      "needs_background": "light"
     },
     "output_type": "display_data"
    }
   ],
   "source": [
    "plt.plot(lookback(z, omega_M, omega_L, h), trans_M_D)\n",
    "plt.xlim(0, 14)\n",
    "plt.ylim(6e-4,2e-1)\n",
    "plt.yscale('log')\n",
    "plt.ylabel('SFH ($M_{\\odot} yr^{-1} Mpc^{-3}$)')\n",
    "plt.xlabel('Lookback Time (Gyr)')"
   ]
  },
  {
   "cell_type": "code",
   "execution_count": 9,
   "metadata": {},
   "outputs": [],
   "source": [
    "num_bins = 50\n",
    "\n",
    "\n",
    "bin_lookback_times = np.linspace(13.6, 0, num_bins + 1)\n",
    "\n",
    "integrated_SFH = np.zeros(num_bins)\n",
    "\n",
    "\n",
    "for i in range(num_bins):\n",
    "\n",
    "    bin_mask = np.logical_and(lookback(z, omega_M, omega_L, h) <= bin_lookback_times[i], lookback(z, omega_M, omega_L, h) > bin_lookback_times[i + 1])\n",
    "    bin_M_D = trans_M_D[bin_mask][::-1] \n",
    "    integrated_SFH[i] = spi.simps(bin_M_D, z[bin_mask][::-1])  \n",
    "\n",
    "\n",
    "integrated_SFH = np.abs(integrated_SFH)"
   ]
  },
  {
   "cell_type": "code",
   "execution_count": 10,
   "metadata": {},
   "outputs": [
    {
     "data": {
      "text/plain": [
       "array([0.0139493 , 0.01644406, 0.01811781, 0.0193074 , 0.02012832,\n",
       "       0.02053183, 0.02039589, 0.01994215, 0.0188173 , 0.01777419,\n",
       "       0.01605487, 0.01429558, 0.01279378, 0.01104352, 0.0095305 ,\n",
       "       0.00832142, 0.00713182, 0.00614651, 0.00522881, 0.0045149 ,\n",
       "       0.00386518, 0.00338746, 0.00295367, 0.00256324, 0.00221422,\n",
       "       0.0019838 , 0.00177331, 0.00151223, 0.00134764, 0.00119879,\n",
       "       0.00100703, 0.00100074, 0.00083465, 0.00073682, 0.00069395,\n",
       "       0.00061018, 0.00057506, 0.0005035 , 0.00047505, 0.00041401,\n",
       "       0.00035939, 0.00037082, 0.00029257, 0.00030505, 0.00026255,\n",
       "       0.00024888, 0.00021262, 0.00020212, 0.00019195, 0.0001623 ])"
      ]
     },
     "execution_count": 10,
     "metadata": {},
     "output_type": "execute_result"
    }
   ],
   "source": [
    "integrated_SFH"
   ]
  },
  {
   "cell_type": "code",
   "execution_count": 11,
   "metadata": {},
   "outputs": [],
   "source": [
    "bin_size_gyrs = np.abs(np.diff(bin_lookback_times))\n",
    "bin_size_gyrs = bin_size_gyrs[0]\n",
    "bin_size_gyrs = round(bin_size_gyrs, 2)"
   ]
  },
  {
   "cell_type": "markdown",
   "metadata": {},
   "source": [
    "##### DTD"
   ]
  },
  {
   "cell_type": "code",
   "execution_count": 12,
   "metadata": {},
   "outputs": [
    {
     "data": {
      "image/png": "[encoded data removed]",
      "text/plain": [
       "<Figure size 432x288 with 1 Axes>"
      ]
     },
     "metadata": {
      "needs_background": "light"
     },
     "output_type": "display_data"
    }
   ],
   "source": [
    "plt.step(bin_centres, DTD_CCSN)\n",
    "plt.yscale('log')"
   ]
  },
  {
   "cell_type": "code",
   "execution_count": 13,
   "metadata": {},
   "outputs": [],
   "source": [
    "linear_bin_centres = 10**bin_centres\n",
    "linear_bin_centres_gyrs = linear_bin_centres / 1e9"
   ]
  },
  {
   "cell_type": "code",
   "execution_count": 14,
   "metadata": {},
   "outputs": [
    {
     "data": {
      "image/png": "[encoded data removed]",
      "text/plain": [
       "<Figure size 432x288 with 1 Axes>"
      ]
     },
     "metadata": {
      "needs_background": "light"
     },
     "output_type": "display_data"
    }
   ],
   "source": [
    "plt.step(linear_bin_centres_gyrs, DTD_CCSN)\n",
    "plt.xlabel('Delay Time (Gyr)')\n",
    "plt.ylabel('Venet Rate ($yr^{-1} M_{\\odot}^{-1}$)')\n",
    "plt.xscale('log')\n",
    "plt.yscale('log')"
   ]
  },
  {
   "cell_type": "code",
   "execution_count": 15,
   "metadata": {},
   "outputs": [],
   "source": [
    "mask = (linear_bin_centres_gyrs >= 0) & (linear_bin_centres_gyrs <= 13.6)\n",
    "\n",
    "\n",
    "filtered_linear_bin_centres_gyrs = linear_bin_centres_gyrs[mask]\n",
    "filtered_DTD = DTD_CCSN[mask]"
   ]
  },
  {
   "cell_type": "code",
   "execution_count": 16,
   "metadata": {},
   "outputs": [],
   "source": [
    "bin_edges = np.arange(0, 13.6 + bin_size_gyrs, bin_size_gyrs)\n",
    "\n",
    "\n",
    "digitized = np.digitize(filtered_linear_bin_centres_gyrs, bin_edges)\n",
    "\n",
    "\n",
    "integrated_DTD = np.zeros(len(bin_edges) - 1)\n",
    "\n",
    "\n",
    "for i in range(1, len(bin_edges)):\n",
    "    bin_mask = (digitized == i)\n",
    "    \n",
    "    if np.any(bin_mask):  \n",
    "        integrated_DTD[i - 1] = spi.simps(filtered_DTD[bin_mask], filtered_linear_bin_centres_gyrs[bin_mask])\n",
    "\n"
   ]
  },
  {
   "cell_type": "code",
   "execution_count": 17,
   "metadata": {},
   "outputs": [
    {
     "data": {
      "text/plain": [
       "array([1.18842697e-10, 5.28807392e-16, 0.00000000e+00, 0.00000000e+00,\n",
       "       0.00000000e+00, 0.00000000e+00, 0.00000000e+00, 0.00000000e+00,\n",
       "       0.00000000e+00, 0.00000000e+00, 0.00000000e+00, 0.00000000e+00,\n",
       "       0.00000000e+00, 0.00000000e+00, 0.00000000e+00, 0.00000000e+00,\n",
       "       0.00000000e+00, 0.00000000e+00, 0.00000000e+00, 0.00000000e+00,\n",
       "       0.00000000e+00, 0.00000000e+00, 0.00000000e+00, 0.00000000e+00,\n",
       "       0.00000000e+00, 0.00000000e+00, 0.00000000e+00, 0.00000000e+00,\n",
       "       0.00000000e+00, 0.00000000e+00, 0.00000000e+00, 0.00000000e+00,\n",
       "       0.00000000e+00, 0.00000000e+00, 0.00000000e+00, 0.00000000e+00,\n",
       "       0.00000000e+00, 0.00000000e+00, 0.00000000e+00, 0.00000000e+00,\n",
       "       0.00000000e+00, 0.00000000e+00, 0.00000000e+00, 0.00000000e+00,\n",
       "       0.00000000e+00, 0.00000000e+00, 0.00000000e+00, 0.00000000e+00,\n",
       "       0.00000000e+00, 0.00000000e+00, 0.00000000e+00])"
      ]
     },
     "execution_count": 17,
     "metadata": {},
     "output_type": "execute_result"
    }
   ],
   "source": [
    "integrated_DTD"
   ]
  },
  {
   "cell_type": "code",
   "execution_count": 18,
   "metadata": {},
   "outputs": [],
   "source": [
    "rates = np.zeros(num_bins)\n",
    "\n",
    "for i in range(num_bins):\n",
    "    rate = 0.0  \n",
    "    for j in range(i + 1):\n",
    "        \n",
    "        rate += integrated_SFH[i] * integrated_DTD[i - j]\n",
    "    rates[i] = rate / bin_size_gyrs  "
   ]
  },
  {
   "cell_type": "code",
   "execution_count": 19,
   "metadata": {
    "scrolled": true
   },
   "outputs": [
    {
     "data": {
      "text/plain": [
       "array([6.13989956e-12, 7.23801847e-12, 7.97473910e-12, 8.49834833e-12,\n",
       "       8.85968433e-12, 9.03729140e-12, 8.97745591e-12, 8.77773896e-12,\n",
       "       8.28262602e-12, 7.82349033e-12, 7.06671359e-12, 6.29234288e-12,\n",
       "       5.63131241e-12, 4.86091663e-12, 4.19494613e-12, 3.66275826e-12,\n",
       "       3.13914360e-12, 2.70544825e-12, 2.30151263e-12, 1.98728015e-12,\n",
       "       1.70129876e-12, 1.49102473e-12, 1.30008775e-12, 1.12823499e-12,\n",
       "       9.74610704e-13, 8.73187864e-13, 7.80539906e-13, 6.65625347e-13,\n",
       "       5.93177584e-13, 5.27658546e-13, 4.43252390e-13, 4.40485307e-13,\n",
       "       3.67380493e-13, 3.24320064e-13, 3.05451295e-13, 2.68575304e-13,\n",
       "       2.53120099e-13, 2.21621622e-13, 2.09096312e-13, 1.82229514e-13,\n",
       "       1.58187704e-13, 1.63220720e-13, 1.28776600e-13, 1.34269757e-13,\n",
       "       1.15562900e-13, 1.09546789e-13, 9.35859225e-14, 8.89663710e-14,\n",
       "       8.44892174e-14, 7.14361557e-14])"
      ]
     },
     "execution_count": 19,
     "metadata": {},
     "output_type": "execute_result"
    }
   ],
   "source": [
    "rates"
   ]
  },
  {
   "cell_type": "code",
   "execution_count": 20,
   "metadata": {},
   "outputs": [],
   "source": [
    "bin_centers_linear = (bin_edges[:-1] + bin_edges[1:]) / 2\n",
    "bin_centers_linear = bin_centers_linear[:-1]"
   ]
  },
  {
   "cell_type": "code",
   "execution_count": 21,
   "metadata": {},
   "outputs": [
    {
     "name": "stderr",
     "output_type": "stream",
     "text": [
      "<ipython-input-21-dddae8659614>:4: UserWarning: Attempted to set non-positive left xlim on a log-scaled axis.\n",
      "Invalid limit will be ignored.\n",
      "  plt.xlim(0, 14)\n"
     ]
    },
    {
     "data": {
      "text/plain": [
       "(0.10728821227199216, 14)"
      ]
     },
     "execution_count": 21,
     "metadata": {},
     "output_type": "execute_result"
    },
    {
     "data": {
      "image/png": "[encoded data removed]",
      "text/plain": [
       "<Figure size 432x288 with 1 Axes>"
      ]
     },
     "metadata": {
      "needs_background": "light"
     },
     "output_type": "display_data"
    }
   ],
   "source": [
    "plt.plot(bin_centers_linear, rates)\n",
    "plt.yscale('log')\n",
    "plt.xscale('log')\n",
    "plt.xlim(0, 14)"
   ]
  },
  {
   "cell_type": "code",
   "execution_count": null,
   "metadata": {},
   "outputs": [],
   "source": []
  }
 ],
 "metadata": {
  "kernelspec": {
   "display_name": "Python 3",
   "language": "python",
   "name": "python3"
  },
  "language_info": {
   "codemirror_mode": {
    "name": "ipython",
    "version": 3
   },
   "file_extension": ".py",
   "mimetype": "text/x-python",
   "name": "python",
   "nbconvert_exporter": "python",
   "pygments_lexer": "ipython3",
   "version": "3.8.3"
  }
 },
 "nbformat": 4,
 "nbformat_minor": 4
}
