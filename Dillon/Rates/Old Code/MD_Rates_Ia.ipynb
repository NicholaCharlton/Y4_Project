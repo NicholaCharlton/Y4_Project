{
 "cells": [
  {
   "cell_type": "markdown",
   "metadata": {},
   "source": [
    "Note:\n",
    "\n",
    "There was no difference between finding rates from individual DTDs and combining then compared to combining all DTDs and doing one rate calculation   "
   ]
  },
  {
   "cell_type": "code",
   "execution_count": 1,
   "metadata": {},
   "outputs": [],
   "source": [
    "import h5py\n",
    "import numpy as np\n",
    "import matplotlib.pyplot as plt\n",
    "import matplotlib as mpl\n",
    "import pandas as pd\n",
    "import scipy.integrate as spi"
   ]
  },
  {
   "cell_type": "code",
   "execution_count": 2,
   "metadata": {},
   "outputs": [],
   "source": [
    "path = \"/Users/dillon/Desktop\"\n",
    "data = h5py.File(f\"{path}/data.h5\", \"r\")\n",
    "\n",
    "SFH = data[\"SFH\"]"
   ]
  },
  {
   "cell_type": "code",
   "execution_count": 3,
   "metadata": {},
   "outputs": [],
   "source": [
    "DTD = data[\"DTD\"]\n",
    "\n",
    "event_types = [\"Ia\", \"IIP\", \"II\", \"Ib\", \"Ic\", \"LGRB\", \"PISNe\", \"BBH\", \"BHNS\", \"BNS\"]\n",
    "metallicities = [\"z001\", \"z002\", \"z003\", \"z004\", \"z006\", \"z008\", \"z010\", \"z014\", \"z020\", \"z030\", \"z040\", \"zem4\", \"zem5\" ]\n",
    "\n",
    "\n",
    "event_total = {}\n",
    "for i in (metallicities):\n",
    "    event_total[i] = {}\n",
    "    for j in event_types:\n",
    "        event_total[i][j] = DTD[j][i][:]\n",
    "    event_total[i][\"CCSN\"] = event_total[i][\"II\"] + event_total[i][\"Ib\"] + event_total[i][\"Ic\"] + event_total[i][\"IIP\"]\n",
    "\n"
   ]
  },
  {
   "cell_type": "code",
   "execution_count": 4,
   "metadata": {},
   "outputs": [],
   "source": [
    "bin_centres = data['DTD'].attrs['bin_centres']"
   ]
  },
  {
   "cell_type": "code",
   "execution_count": 5,
   "metadata": {},
   "outputs": [],
   "source": [
    "Z0 = metallicities[0] \n",
    "Z1 = metallicities[1] \n",
    "Z2 = metallicities[2] \n",
    "Z3 = metallicities[3] \n",
    "Z4 = metallicities[4] \n",
    "Z5 = metallicities[5] \n",
    "Z6 = metallicities[6] \n",
    "Z7 = metallicities[7] \n",
    "Z8 = metallicities[8] \n",
    "Z9 = metallicities[9] \n",
    "Z10 = metallicities[10] \n",
    "Z11 = metallicities[11] \n",
    "Z12 = metallicities[12] \n",
    "\n",
    "\n",
    "x0 = event_total[Z0]\n",
    "x1 = event_total[Z1]\n",
    "x2 = event_total[Z2]\n",
    "x3 = event_total[Z3]\n",
    "x4 = event_total[Z4]\n",
    "x5 = event_total[Z5]\n",
    "x6 = event_total[Z6]\n",
    "x7 = event_total[Z7]\n",
    "x8 = event_total[Z8]\n",
    "x9 = event_total[Z9]\n",
    "x10 = event_total[Z10]\n",
    "x11 = event_total[Z11]\n",
    "x12 = event_total[Z12]\n",
    "\n",
    "\n",
    "\n",
    "\n",
    "DTD_Ia = np.array(x0[\"Ia\"] + x1[\"Ia\"] + + x2[\"Ia\"] + x3[\"Ia\"] + x4[\"Ia\"] + x5[\"Ia\"] + x6[\"Ia\"] + x7[\"Ia\"] + x8[\"Ia\"] + x9[\"Ia\"] + x10[\"Ia\"] + x11[\"Ia\"] + x12[\"Ia\"]) "
   ]
  },
  {
   "cell_type": "markdown",
   "metadata": {},
   "source": [
    "##### SFH"
   ]
  },
  {
   "cell_type": "code",
   "execution_count": 22,
   "metadata": {},
   "outputs": [],
   "source": [
    "z = np.linspace(0, 20, 50000)\n",
    "\n",
    "M_D = 0.015 * (1 + z)**2.7 / (1 + ((1 + z) / 2.9)**5.6)\n",
    "\n",
    "trans_M_D = 0.66 * M_D"
   ]
  },
  {
   "cell_type": "code",
   "execution_count": 23,
   "metadata": {},
   "outputs": [],
   "source": [
    "h = SFH.attrs['h']\n",
    "omega_M = SFH.attrs['omega_M']\n",
    "omega_L = SFH.attrs['omega_L']"
   ]
  },
  {
   "cell_type": "code",
   "execution_count": 24,
   "metadata": {},
   "outputs": [],
   "source": [
    "@np.vectorize\n",
    "def lookback(z, omega1, omega2, hubble):\n",
    "    \n",
    "    def f(x):\n",
    "        a = np.sqrt(omega1*(1+x)**3 + omega2)\n",
    "        return 1/((1+x)*a)\n",
    "    t_hubble = (1/(100*hubble))*3.0856776*10**19\n",
    "    return t_hubble *spi.quad(f, 0, z)[0]/(60*60*24*365.2388526*1e9)"
   ]
  },
  {
   "cell_type": "code",
   "execution_count": 25,
   "metadata": {},
   "outputs": [
    {
     "data": {
      "text/plain": [
       "Text(0.5, 0, 'Lookback Time (Gyr)')"
      ]
     },
     "execution_count": 25,
     "metadata": {},
     "output_type": "execute_result"
    },
    {
     "data": {
      "image/png": "[encoded data removed]",
      "text/plain": [
       "<Figure size 432x288 with 1 Axes>"
      ]
     },
     "metadata": {
      "needs_background": "light"
     },
     "output_type": "display_data"
    }
   ],
   "source": [
    "plt.plot(lookback(z, omega_M, omega_L, h), trans_M_D)\n",
    "plt.xlim(0, 14)\n",
    "plt.ylim(6e-4,2e-1)\n",
    "plt.yscale('log')\n",
    "plt.ylabel('SFH ($M_{\\odot} yr^{-1} Mpc^{-3}$)')\n",
    "plt.xlabel('Lookback Time (Gyr)')"
   ]
  },
  {
   "cell_type": "code",
   "execution_count": 27,
   "metadata": {},
   "outputs": [],
   "source": [
    "#Converting the SFH to Gpc^-3\n",
    "trans_M_D = trans_M_D * 1e9"
   ]
  },
  {
   "cell_type": "code",
   "execution_count": 73,
   "metadata": {},
   "outputs": [],
   "source": [
    "num_bins = 100\n",
    "\n",
    "\n",
    "bin_lookback_times = np.linspace(13.6, 0, num_bins + 1)\n",
    "\n",
    "integrated_SFH = np.zeros(num_bins)\n",
    "\n",
    "\n",
    "for i in range(num_bins):\n",
    "\n",
    "    bin_mask = np.logical_and(lookback(z, omega_M, omega_L, h) <= bin_lookback_times[i], lookback(z, omega_M, omega_L, h) > bin_lookback_times[i + 1])\n",
    "    bin_M_D = trans_M_D[bin_mask][::-1] \n",
    "    integrated_SFH[i] = spi.simps(bin_M_D, z[bin_mask][::-1])  \n",
    "\n",
    "\n",
    "integrated_SFH = np.abs(integrated_SFH)"
   ]
  },
  {
   "cell_type": "code",
   "execution_count": 92,
   "metadata": {},
   "outputs": [
    {
     "data": {
      "text/plain": [
       "array([ 6579573.94228341,  7371021.8393898 ,  7975448.56900624,\n",
       "        8471996.5149591 ,  8889255.47895562,  9249428.23899297,\n",
       "        9546766.45902507,  9803155.58618096,  9998254.81462982,\n",
       "       10157959.09849234, 10240121.39576748, 10305152.56755904,\n",
       "       10260540.77205908, 10212608.92772089, 10080041.58512002,\n",
       "        9906584.27399895,  9656389.63182512,  9362064.89729778,\n",
       "        9027226.05543444,  8681978.42495095,  8287380.86659379,\n",
       "        7897846.20419978,  7464646.20017281,  7038405.00498686,\n",
       "        6598975.67396753,  6193724.22646215,  5797431.77804727,\n",
       "        5383942.62572423,  5028540.20899578,  4700497.05375641,\n",
       "        4338397.72065519,  4012308.99488698,  3753164.76075   ,\n",
       "        3468591.35043992,  3221428.1299722 ,  2982171.1621048 ,\n",
       "        2752093.33125025,  2583973.92762207,  2371261.028528  ,\n",
       "        2218145.93012933,  2071399.4882231 ,  1908657.48846032,\n",
       "        1776783.66094293,  1672658.29488939,  1552634.18900806,\n",
       "        1439190.90527438,  1351130.80720176,  1267344.1794729 ,\n",
       "        1187751.14893462,  1095163.9279888 ,  1041292.81962497,\n",
       "         973578.45589375,   909558.75173962,   863990.60668413,\n",
       "         805931.75013617,   751168.94208701,   713033.11247187,\n",
       "         676584.05360336,   629138.3623937 ,   596710.22206335,\n",
       "         565769.48910899,   536263.14795806,   508138.04880928,\n",
       "         481341.18300177,   445377.7825525 ,   431834.59647412,\n",
       "         408696.82313775,   386681.32380516,   365738.79355704,\n",
       "         345821.06267647,   335586.01914513,   308630.92397225,\n",
       "         299731.81571332,   290979.67294386,   266904.65990157,\n",
       "         259342.11705339,   244597.67485   ,   237699.86709779,\n",
       "         224014.96543195,   211022.60656028,   205219.29912635,\n",
       "         193160.84307631,   187896.07917142,   176706.91693355,\n",
       "         171940.56882214,   161559.36546313,   157253.44408735,\n",
       "         147622.13378797,   143740.79368571,   139921.84863202,\n",
       "         131185.84092894,   122899.8100966 ,   119770.43667818,\n",
       "         116690.15516175,   113658.76780275,   106303.51046011,\n",
       "          99328.30611665,   101031.75868384,    94354.89616873,\n",
       "          88024.01615641])"
      ]
     },
     "execution_count": 92,
     "metadata": {},
     "output_type": "execute_result"
    }
   ],
   "source": [
    "integrated_SFH"
   ]
  },
  {
   "cell_type": "code",
   "execution_count": 75,
   "metadata": {},
   "outputs": [],
   "source": [
    "bin_size_gyrs = np.abs(np.diff(bin_lookback_times))\n",
    "bin_size_gyrs = bin_size_gyrs[0]\n",
    "bin_size_gyrs = round(bin_size_gyrs, 2)"
   ]
  },
  {
   "cell_type": "code",
   "execution_count": 76,
   "metadata": {},
   "outputs": [
    {
     "data": {
      "text/plain": [
       "[<matplotlib.lines.Line2D at 0x7f869bc214c0>]"
      ]
     },
     "execution_count": 76,
     "metadata": {},
     "output_type": "execute_result"
    },
    {
     "data": {
      "image/png": "[encoded data removed]",
      "text/plain": [
       "<Figure size 432x288 with 1 Axes>"
      ]
     },
     "metadata": {
      "needs_background": "light"
     },
     "output_type": "display_data"
    }
   ],
   "source": [
    "plt.step(bin_centres, DTD_Ia)"
   ]
  },
  {
   "cell_type": "code",
   "execution_count": 77,
   "metadata": {},
   "outputs": [],
   "source": [
    "linear_bin_centres = 10**bin_centres\n",
    "linear_bin_centres_gyrs = linear_bin_centres / 1e9"
   ]
  },
  {
   "cell_type": "code",
   "execution_count": 78,
   "metadata": {},
   "outputs": [],
   "source": [
    "mask = (linear_bin_centres_gyrs >= 0) & (linear_bin_centres_gyrs <= 13.6)\n",
    "\n",
    "\n",
    "filtered_linear_bin_centres_gyrs = linear_bin_centres_gyrs[mask]\n",
    "filtered_DTD_Ia = DTD_Ia[mask]"
   ]
  },
  {
   "cell_type": "code",
   "execution_count": 93,
   "metadata": {},
   "outputs": [],
   "source": [
    "bin_edges = np.arange(0, 13.6+4*bin_size_gyrs, bin_size_gyrs)\n",
    "\n",
    "\n",
    "digitized = np.digitize(filtered_linear_bin_centres_gyrs, bin_edges)\n",
    "\n",
    "\n",
    "integrated_DTD_Ia = np.zeros(len(bin_edges) - 1)\n",
    "\n",
    "\n",
    "for i in range(1, len(bin_edges)):\n",
    "    bin_mask = (digitized == i)\n",
    "    \n",
    "    if np.any(bin_mask):  \n",
    "        integrated_DTD_Ia[i - 1] = spi.simps(filtered_DTD_Ia[bin_mask], filtered_linear_bin_centres_gyrs[bin_mask])\n",
    "\n"
   ]
  },
  {
   "cell_type": "code",
   "execution_count": 94,
   "metadata": {},
   "outputs": [
    {
     "data": {
      "text/plain": [
       "array([7.65972441e-14, 1.72540743e-13, 5.99807426e-13, 0.00000000e+00,\n",
       "       0.00000000e+00, 0.00000000e+00, 0.00000000e+00, 0.00000000e+00,\n",
       "       0.00000000e+00, 0.00000000e+00, 0.00000000e+00, 0.00000000e+00,\n",
       "       0.00000000e+00, 0.00000000e+00, 0.00000000e+00, 0.00000000e+00,\n",
       "       0.00000000e+00, 0.00000000e+00, 0.00000000e+00, 0.00000000e+00,\n",
       "       0.00000000e+00, 0.00000000e+00, 0.00000000e+00, 0.00000000e+00,\n",
       "       0.00000000e+00, 0.00000000e+00, 0.00000000e+00, 0.00000000e+00,\n",
       "       0.00000000e+00, 0.00000000e+00, 0.00000000e+00, 0.00000000e+00,\n",
       "       0.00000000e+00, 0.00000000e+00, 0.00000000e+00, 0.00000000e+00,\n",
       "       0.00000000e+00, 0.00000000e+00, 0.00000000e+00, 0.00000000e+00,\n",
       "       0.00000000e+00, 0.00000000e+00, 0.00000000e+00, 0.00000000e+00,\n",
       "       0.00000000e+00, 0.00000000e+00, 0.00000000e+00, 0.00000000e+00,\n",
       "       0.00000000e+00, 0.00000000e+00, 0.00000000e+00, 0.00000000e+00,\n",
       "       0.00000000e+00, 0.00000000e+00, 0.00000000e+00, 0.00000000e+00,\n",
       "       0.00000000e+00, 0.00000000e+00, 0.00000000e+00, 0.00000000e+00,\n",
       "       0.00000000e+00, 0.00000000e+00, 0.00000000e+00, 0.00000000e+00,\n",
       "       0.00000000e+00, 0.00000000e+00, 0.00000000e+00, 0.00000000e+00,\n",
       "       0.00000000e+00, 0.00000000e+00, 0.00000000e+00, 0.00000000e+00,\n",
       "       0.00000000e+00, 0.00000000e+00, 0.00000000e+00, 0.00000000e+00,\n",
       "       0.00000000e+00, 0.00000000e+00, 0.00000000e+00, 0.00000000e+00,\n",
       "       0.00000000e+00, 0.00000000e+00, 0.00000000e+00, 0.00000000e+00,\n",
       "       0.00000000e+00, 0.00000000e+00, 0.00000000e+00, 0.00000000e+00,\n",
       "       0.00000000e+00, 0.00000000e+00, 0.00000000e+00, 0.00000000e+00,\n",
       "       0.00000000e+00, 0.00000000e+00, 0.00000000e+00, 0.00000000e+00,\n",
       "       0.00000000e+00, 0.00000000e+00, 0.00000000e+00, 0.00000000e+00,\n",
       "       0.00000000e+00])"
      ]
     },
     "execution_count": 94,
     "metadata": {},
     "output_type": "execute_result"
    }
   ],
   "source": [
    "#integrated_DTD_Ia"
   ]
  },
  {
   "cell_type": "code",
   "execution_count": 95,
   "metadata": {},
   "outputs": [],
   "source": [
    "rates = np.zeros(num_bins)\n",
    "\n",
    "for i in range(num_bins):\n",
    "    rate = 0.0  \n",
    "    for j in range(i + 1):\n",
    "        \n",
    "        rate += integrated_SFH[i] * integrated_DTD_Ia[i - j]\n",
    "    rates[i] = rate / bin_size_gyrs "
   ]
  },
  {
   "cell_type": "code",
   "execution_count": 96,
   "metadata": {},
   "outputs": [],
   "source": [
    "bin_centers_linear = (bin_edges[:-1] + bin_edges[1:]) / 2\n",
    "bin_centers_linear = bin_centers_linear[:-1]"
   ]
  },
  {
   "cell_type": "code",
   "execution_count": 105,
   "metadata": {},
   "outputs": [
    {
     "data": {
      "image/png": "[encoded data removed]",
      "text/plain": [
       "<Figure size 432x288 with 1 Axes>"
      ]
     },
     "metadata": {
      "needs_background": "light"
     },
     "output_type": "display_data"
    }
   ],
   "source": [
    "plt.plot(bin_centers_linear, rates)\n",
    "plt.yscale('log')\n"
   ]
  },
  {
   "cell_type": "code",
   "execution_count": 110,
   "metadata": {},
   "outputs": [
    {
     "data": {
      "image/png": "[encoded data removed]",
      "text/plain": [
       "<Figure size 432x288 with 1 Axes>"
      ]
     },
     "metadata": {
      "needs_background": "light"
     },
     "output_type": "display_data"
    }
   ],
   "source": [
    "plt.plot(bin_centers_linear, rates[::-1])\n",
    "plt.yscale('log')\n",
    "plt.xscale('log')\n"
   ]
  },
  {
   "cell_type": "code",
   "execution_count": 114,
   "metadata": {},
   "outputs": [
    {
     "name": "stderr",
     "output_type": "stream",
     "text": [
      "<ipython-input-114-3e1cebf312a5>:4: UserWarning: Attempted to set non-positive left xlim on a log-scaled axis.\n",
      "Invalid limit will be ignored.\n",
      "  plt.xlim(0, 14)\n"
     ]
    },
    {
     "data": {
      "text/plain": [
       "(0.053722397531872516, 14)"
      ]
     },
     "execution_count": 114,
     "metadata": {},
     "output_type": "execute_result"
    },
    {
     "data": {
      "image/png": "[encoded data removed]",
      "text/plain": [
       "<Figure size 432x288 with 1 Axes>"
      ]
     },
     "metadata": {
      "needs_background": "light"
     },
     "output_type": "display_data"
    }
   ],
   "source": [
    "plt.plot(bin_centers_linear, rates*1e9)\n",
    "plt.yscale('log')\n",
    "plt.xscale('log')\n",
    "plt.xlim(0, 14)"
   ]
  },
  {
   "cell_type": "code",
   "execution_count": null,
   "metadata": {},
   "outputs": [],
   "source": []
  }
 ],
 "metadata": {
  "kernelspec": {
   "display_name": "Python 3",
   "language": "python",
   "name": "python3"
  },
  "language_info": {
   "codemirror_mode": {
    "name": "ipython",
    "version": 3
   },
   "file_extension": ".py",
   "mimetype": "text/x-python",
   "name": "python",
   "nbconvert_exporter": "python",
   "pygments_lexer": "ipython3",
   "version": "3.8.3"
  }
 },
 "nbformat": 4,
 "nbformat_minor": 4
}
