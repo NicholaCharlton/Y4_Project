{
 "cells": [
  {
   "cell_type": "code",
   "execution_count": 157,
   "metadata": {},
   "outputs": [],
   "source": [
    "import h5py\n",
    "import numba\n",
    "import numpy as np\n",
    "import pandas as pd\n",
    "import scipy.integrate\n",
    "import matplotlib.pyplot as plt\n",
    "from hoki.utils.exceptions import HokiFormatError\n",
    "\n",
    "import numba as nb\n",
    "import numpy as np\n"
   ]
  },
  {
   "cell_type": "code",
   "execution_count": 158,
   "metadata": {},
   "outputs": [],
   "source": [
    "time_bins = np.arange(6.0, 11.1, 0.1)\n",
    "linear_time_edges = np.append([0.0], 10**np.arange(6.05, 11.15, 0.1))\n",
    "linear_time_intervals = np.diff(linear_time_edges)\n",
    "metallicity_names = [\"zem5\", \"zem4\", \"z001\",\"z002\", \"z003\", \"z004\", \"z006\", \"z008\", \"z010\", \"z014\", \"z020\", \"z030\", \"z040\"]\n",
    "metallicity_values = np.array([0.00001, 0.0001, 0.001, 0.002, 0.003, 0.004, 0.006, 0.008, 0.010, 0.014, 0.020, 0.030, 0.040])\n",
    "event_types = [\"Ia\", \"IIP\", \"II\", \"Ib\", \"Ic\", \"LGRB\", \"PISNe\", \"low_mass\"]\n",
    "all_names = ['log_age', 'Ia', 'IIP', 'II', 'Ib', 'Ic', 'LGRB', 'PISNe', 'low_mass', 'e_Ia', 'e_IIP', 'e_II', 'e_Ib', 'e_Ic', 'e_LGRB', \n",
    "             'e_PISNe', 'e_low_mass', 'age_yrs']\n",
    "current_time = 13.799e9"
   ]
  },
  {
   "cell_type": "code",
   "execution_count": 159,
   "metadata": {},
   "outputs": [],
   "source": [
    "@nb.njit(parallel=True, cache=True)\n",
    "def _grid_rate_calculator_over_time(bpass_rate, SFH, time_points, nr_time_bins):\n",
    "    event_rates = np.empty(nr_time_bins, dtype=np.float64)\n",
    "    time_edges = np.linspace(0, current_time, nr_time_bins + 1)\n",
    "    mass_per_bin = _optimised_mass_per_bin(time_points, SFH, time_edges, sample_rate=25)\n",
    "\n",
    "    for count in nb.prange(nr_time_bins):\n",
    "        p1 = time_edges[count]\n",
    "        p2 = time_edges[count + 1]\n",
    "        event_rate = _integral(\n",
    "            p2, p1, time_edges, bpass_rate, linear_time_intervals\n",
    "        )\n",
    "        event_rates[count] = event_rate / (p2 - p1)\n",
    "\n",
    "    return event_rates\n",
    "\n",
    "\n",
    "\n",
    "\n",
    "def _over_time(mass_per_bin, time_edges, bpass_rate):\n",
    "    \"\"\"\n",
    "    Calculates the events rates per bin over the given bin edges.\n",
    "\n",
    "    Parameters\n",
    "    ----------\n",
    "    mass_per_bin (ndarray) : shape N - array containing the mass per time bin\n",
    "    time_edges (ndarray) : shape N+1 - bin edges of mass_per_bin\n",
    "    bpass_rate (ndarray) : array of shape (51,) - BPASS event rates at a specific metallicity and time bins\n",
    "\n",
    "    Returns\n",
    "    -------\n",
    "    event_rate (ndarray) : shape N - number of events per bin\n",
    "    \"\"\"\n",
    "    event_rate = np.zeros(len(mass_per_bin))\n",
    "\n",
    "    for count in range(len(mass_per_bin)):\n",
    "        t = time_edges[count + 1]\n",
    "        for num in range(0, count + 1):\n",
    "            p1 = t - time_edges[num]\n",
    "            p2 = t - time_edges[num + 1]\n",
    "            bin_events = _integral(p2, p1, linear_time_edges, bpass_rate, linear_time_intervals)\n",
    "            event_rate[num] += bin_events * mass_per_bin[count]\n",
    "    return event_rate\n",
    "\n",
    "\n",
    "class CSPEventRate:\n",
    "    def __init__(self, bpass_rate):\n",
    "        self.bpass_rate = bpass_rate / (1e6 * linear_time_intervals)\n",
    "\n",
    "    def grid_over_time(self, SFH_list, time_points, nr_time_bins, return_time_edges=False):\n",
    "        nr_sfh = SFH_list.shape[0]\n",
    "        time_edges = np.linspace(0, current_time, nr_time_bins + 1)\n",
    "        event_rate_list = np.zeros((nr_sfh, nr_time_bins), dtype=np.float64)\n",
    "\n",
    "        for sfh in range(nr_sfh):\n",
    "            # Pass self.bpass_rate as an argument\n",
    "            event_rate_list[sfh] = _grid_rate_calculator_over_time(\n",
    "                self.bpass_rate, SFH_list[sfh], time_points, nr_time_bins\n",
    "            )\n",
    "\n",
    "        if return_time_edges:\n",
    "            return np.array([event_rate_list, time_edges], dtype=object)\n",
    "        else:\n",
    "            return event_rate_list\n"
   ]
  },
  {
   "cell_type": "code",
   "execution_count": 160,
   "metadata": {},
   "outputs": [],
   "source": [
    "import numba as nb\n",
    "\n",
    "@nb.njit(parallel=True, cache=True)\n",
    "def linear_interp(x, xp, fp):\n",
    "    # Function to perform linear interpolation using explicit indexing\n",
    "    result = np.empty_like(x)\n",
    "    for i in nb.prange(len(x)):\n",
    "        j = np.searchsorted(xp, x[i])\n",
    "        j = max(1, min(j, len(xp) - 1))\n",
    "        x0, x1 = xp[j - 1], xp[j]\n",
    "        y0, y1 = fp[j - 1], fp[j]\n",
    "        result[i] = y0 + (y1 - y0) * (x[i] - x0) / (x1 - x0)\n",
    "    return result\n",
    "\n",
    "\n",
    "\n",
    "\n",
    "@nb.njit(parallel=True, cache=True)\n",
    "def _optimised_mass_per_bin(time_points, sfh, time_edges, sample_rate=25):\n",
    "    nr_bins = len(time_edges) - 1\n",
    "    out = np.empty(nr_bins - 1)\n",
    "\n",
    "    for num in range(nr_bins - 1):\n",
    "        s = 0\n",
    "        x = np.linspace(time_edges[num], time_edges[num + 1], sample_rate)\n",
    "        y = linear_interp(x, time_points, sfh)\n",
    "\n",
    "        for N in range(1, len(x)):\n",
    "            s += (x[N] - x[N - 1]) * (y[N] + y[N - 1])\n",
    "\n",
    "        out[num] = s / 2\n",
    "\n",
    "    return out\n"
   ]
  },
  {
   "cell_type": "code",
   "execution_count": 161,
   "metadata": {},
   "outputs": [],
   "source": [
    "@staticmethod\n",
    "def _get_bin_index(x, edges):\n",
    "    \"\"\"\n",
    "    Gets the bin number given the edges.\n",
    "\n",
    "    Parameters\n",
    "    ----------\n",
    "    x (float) : value where the bin number is needed to be known\n",
    "    edges (ndarray) : array with the edges of the histogram\n",
    "\n",
    "    Returns\n",
    "    -------\n",
    "    out (int) : bin index of x\n",
    "\n",
    "    \"\"\"\n",
    "    if x < edges[0] or x > edges[-1]:  # checks if x is within the edge ranges\n",
    "        raise ValueError(\"x outside of range\")\n",
    "\n",
    "    out = 0\n",
    "    if x == edges[-1]:  # if x is equal to the last bin, return len-2\n",
    "        out = len(edges) - 2\n",
    "\n",
    "    for i, val in enumerate(edges):\n",
    "        if val > x:  # x larger than bin, return answer\n",
    "            out = i - 1\n",
    "            break\n",
    "    return int(out)"
   ]
  },
  {
   "cell_type": "code",
   "execution_count": 162,
   "metadata": {},
   "outputs": [],
   "source": [
    "@nb.njit\n",
    "def _integral(x1, x2, edges, values, bin_width):\n",
    "    lower_bin = _get_bin_index(x1, edges)\n",
    "    upper_bin = _get_bin_index(x2, edges)\n",
    "    total = 0.0\n",
    "\n",
    "    for i in range(lower_bin, upper_bin + 1):\n",
    "        if i == lower_bin:\n",
    "            lower = x1\n",
    "        else:\n",
    "            lower = edges[i]\n",
    "\n",
    "        if i == upper_bin:\n",
    "            upper = x2\n",
    "        else:\n",
    "            upper = edges[i + 1]\n",
    "\n",
    "        total += (upper - lower) * values[i]\n",
    "\n",
    "    return total\n"
   ]
  },
  {
   "cell_type": "code",
   "execution_count": 163,
   "metadata": {},
   "outputs": [
    {
     "ename": "SyntaxError",
     "evalue": "EOF while scanning triple-quoted string literal (<ipython-input-163-58f227ae8b24>, line 30)",
     "output_type": "error",
     "traceback": [
      "\u001b[0;36m  File \u001b[0;32m\"<ipython-input-163-58f227ae8b24>\"\u001b[0;36m, line \u001b[0;32m30\u001b[0m\n\u001b[0;31m    ''''''\u001b[0m\n\u001b[0m           \n^\u001b[0m\n\u001b[0;31mSyntaxError\u001b[0m\u001b[0;31m:\u001b[0m EOF while scanning triple-quoted string literal\n"
     ]
    }
   ],
   "source": [
    "\n",
    "''' \n",
    "@staticmethod\n",
    "@nb.njit(parallel=True, cache=True)\n",
    "\n",
    "def _over_time(mass_per_bin, time_edges, bpass_rate):\n",
    "    \"\"\"\n",
    "    Calculates the events rates per bin over the given bin edges.\n",
    "\n",
    "    Parameters\n",
    "    ----------\n",
    "    mass_per_bin (ndarray) : shape N - array containing the mass per time bin\n",
    "    time_edges (ndarray) : shape N+1 - bin edges of mass_per_bin\n",
    "    bpass_rate (ndarray) : array of shape (51,) - BPASS event rates at a specific metallicity and time bins\n",
    "\n",
    "    Returns\n",
    "    -------\n",
    "    event_rate (ndarray) : shape N - number of events per bin\n",
    "    \"\"\"\n",
    "    event_rate = np.zeros(len(mass_per_bin))\n",
    "\n",
    "    for count in range(len(mass_per_bin)):\n",
    "        t = time_edges[count + 1]\n",
    "        for num in range(0, count + 1):\n",
    "            p1 = t - time_edges[num]\n",
    "            p2 = t - time_edges[num + 1]\n",
    "            bin_events = _integral(p2, p1, linear_time_edges, bpass_rate, linear_time_intervals)\n",
    "            event_rate[num] += bin_events * mass_per_bin[count]\n",
    "    return event_rate\n",
    "\n",
    "'''''' "
   ]
  },
  {
   "cell_type": "code",
   "execution_count": null,
   "metadata": {},
   "outputs": [],
   "source": []
  },
  {
   "cell_type": "code",
   "execution_count": null,
   "metadata": {},
   "outputs": [],
   "source": []
  },
  {
   "cell_type": "code",
   "execution_count": null,
   "metadata": {},
   "outputs": [],
   "source": []
  },
  {
   "cell_type": "code",
   "execution_count": 164,
   "metadata": {},
   "outputs": [],
   "source": [
    "file = h5py.File(\"/Users/dillon/Desktop/data.h5\", \"r\")\n",
    "SFH_1 = file['SFH']['TNG']\n",
    "\n",
    "\n",
    "@np.vectorize\n",
    "def calc_LB(z, omega0, omega1, hubble):\n",
    "    '''\n",
    "    Calculates the lookback time according to Hobbs.\n",
    "\n",
    "    Parameters:\n",
    "    z : float\n",
    "        The redshift at which you want to calculate the lookback\n",
    "    omega0 : float\n",
    "        The Matter density parameter (0.3111 Planck 2018)\n",
    "    omega1 : float\n",
    "        The dark energy density parameter (0.6889 Planck 2018)\n",
    "    hubble : float\n",
    "        The hubble parameters (0.6766 Planck 2018)\n",
    "    '''\n",
    "    def func(x):\n",
    "        E = np.sqrt(omega0*(1+x)**3 + omega1)\n",
    "        return 1/((1+x)*E)\n",
    "    # can be simplified by already doing the extra coefficient calculations\n",
    "    t_hubble = (1/(100*hubble))*3.0856776*10**19\n",
    "    return t_hubble *scipy.integrate.quad(func, 0, z)[0]/(60*60*24*365.2388526)\n",
    "\n",
    "lookback_time = calc_LB(SFH_1.attrs['redshift'], 0.3111, 0.6889, 0.6766)"
   ]
  },
  {
   "cell_type": "code",
   "execution_count": 165,
   "metadata": {},
   "outputs": [
    {
     "data": {
      "text/plain": [
       "array([3.20898781e-06, 1.36651743e+08, 3.40473695e+08, 4.75571226e+08,\n",
       "       6.77019125e+08, 8.10505604e+08, 1.00949470e+09, 1.14131404e+09,\n",
       "       1.33776091e+09, 1.46785804e+09, 1.66168105e+09, 1.85389144e+09,\n",
       "       1.98112192e+09, 2.17058255e+09, 2.29595457e+09, 2.48259040e+09,\n",
       "       2.66749669e+09, 2.78979430e+09, 2.97176279e+09, 3.15193684e+09,\n",
       "       3.27104472e+09, 3.50681178e+09, 3.62345859e+09, 3.79686627e+09,\n",
       "       3.96838213e+09, 4.08166616e+09, 4.24998988e+09, 4.41637672e+09,\n",
       "       4.58081193e+09, 4.74328198e+09, 4.90377458e+09, 5.06227866e+09,\n",
       "       5.21878445e+09, 5.37328341e+09, 5.52576832e+09, 5.72593842e+09,\n",
       "       5.87370287e+09, 6.01943833e+09, 6.16314307e+09, 6.35158982e+09,\n",
       "       6.49055642e+09, 6.67269173e+09, 6.80693293e+09, 6.98278374e+09,\n",
       "       7.11232701e+09, 7.28193939e+09, 7.44801459e+09, 7.61057668e+09,\n",
       "       7.73020893e+09, 7.92527255e+09, 8.07746875e+09, 8.22627635e+09,\n",
       "       8.37173270e+09, 8.51387729e+09, 8.68696424e+09, 8.82181176e+09,\n",
       "       8.98591792e+09, 9.14516166e+09, 9.29963755e+09, 9.50807912e+09,\n",
       "       9.59467633e+09, 9.76306442e+09, 9.89859757e+09, 1.00556434e+10,\n",
       "       1.02067561e+10, 1.03521151e+10, 1.05146672e+10, 1.06699137e+10,\n",
       "       1.08181337e+10, 1.09596020e+10, 1.11133587e+10, 1.12590426e+10,\n",
       "       1.14137631e+10, 1.15592767e+10, 1.16514218e+10, 1.18521970e+10,\n",
       "       1.19841733e+10, 1.21073043e+10, 1.22550800e+10, 1.23292684e+10,\n",
       "       1.24291425e+10, 1.25132351e+10, 1.26174016e+10, 1.26821186e+10,\n",
       "       1.27580515e+10, 1.28288147e+10, 1.28623670e+10, 1.29502470e+10,\n",
       "       1.30298453e+10, 1.30616179e+10, 1.31068164e+10, 1.31537709e+10,\n",
       "       1.31975133e+10, 1.32460710e+10, 1.32762217e+10, 1.33183576e+10,\n",
       "       1.33752014e+10, 1.34226125e+10, 1.35217699e+10, 1.36130264e+10])"
      ]
     },
     "execution_count": 165,
     "metadata": {},
     "output_type": "execute_result"
    }
   ],
   "source": [
    "lookback_time "
   ]
  },
  {
   "cell_type": "code",
   "execution_count": 166,
   "metadata": {},
   "outputs": [],
   "source": [
    "path = \"/Users/dillon/Desktop\"\n",
    "data = h5py.File(f\"{path}/data.h5\", \"r\")\n",
    "\n",
    "\n",
    "DTD = data[\"DTD\"]\n",
    "\n",
    "event_types = [\"Ia\", \"IIP\", \"II\", \"Ib\", \"Ic\", \"LGRB\", \"PISNe\", \"BBH\", \"BHNS\", \"BNS\"]\n",
    "metallicities = [\"z001\", \"z002\", \"z003\", \"z004\", \"z006\", \"z008\", \"z010\", \"z014\", \"z020\", \"z030\", \"z040\", \"zem4\", \"zem5\" ]\n",
    "\n",
    "\n",
    "event_total = {}\n",
    "for i in (metallicities):\n",
    "    event_total[i] = {}\n",
    "    for j in event_types:\n",
    "        event_total[i][j] = DTD[j][i][:]\n",
    "    event_total[i][\"CCSN\"] = event_total[i][\"II\"] + event_total[i][\"Ib\"] + event_total[i][\"Ic\"] + event_total[i][\"IIP\"]\n",
    "\n",
    "\n",
    "Z12 = metallicities[12] \n",
    "\n",
    "x1 = event_total[Z12]\n",
    "DTD = x1[\"Ia\"]\n"
   ]
  },
  {
   "cell_type": "code",
   "execution_count": 167,
   "metadata": {},
   "outputs": [],
   "source": [
    "bpass_rate = DTD"
   ]
  },
  {
   "cell_type": "code",
   "execution_count": 168,
   "metadata": {},
   "outputs": [],
   "source": [
    "er_csp = CSPEventRate(bpass_rate)"
   ]
  },
  {
   "cell_type": "code",
   "execution_count": 169,
   "metadata": {},
   "outputs": [
    {
     "data": {
      "text/plain": [
       "<__main__.CSPEventRate at 0x7fbc5a1a9490>"
      ]
     },
     "execution_count": 169,
     "metadata": {},
     "output_type": "execute_result"
    }
   ],
   "source": [
    "er_csp"
   ]
  },
  {
   "cell_type": "code",
   "execution_count": 170,
   "metadata": {},
   "outputs": [],
   "source": [
    "single_SFH = np.array([8.33191811e-03, 8.88059988e-03, 9.19159485e-03, 9.34190314e-03,\n",
    "       9.52613027e-03, 9.61924736e-03, 9.95608132e-03, 1.01121330e-02,\n",
    "       1.04936439e-02, 1.07714432e-02, 1.11501214e-02, 1.15528803e-02,\n",
    "       1.16737580e-02, 1.21275267e-02, 1.23668919e-02, 1.25800074e-02,\n",
    "       1.29328367e-02, 1.30097050e-02, 1.33423500e-02, 1.38473763e-02,\n",
    "       1.41944978e-02, 1.45959858e-02, 1.50736653e-02, 1.55658660e-02,\n",
    "       1.60191941e-02, 1.66433717e-02, 1.68851090e-02, 1.77012000e-02,\n",
    "       1.80640072e-02, 1.86711321e-02, 1.91592408e-02, 1.99370643e-02,\n",
    "       2.03300593e-02, 2.10643742e-02, 2.16123611e-02, 2.24611632e-02,\n",
    "       2.27264639e-02, 2.39028158e-02, 2.46715799e-02, 2.54031622e-02,\n",
    "       2.64623204e-02, 2.69635787e-02, 2.78400452e-02, 2.95416449e-02,\n",
    "       3.03482792e-02, 3.11052665e-02, 3.19822080e-02, 3.27873986e-02,\n",
    "       3.34144609e-02, 3.43084579e-02, 3.54056765e-02, 3.60838504e-02,\n",
    "       3.78456969e-02, 3.85507297e-02, 4.08587507e-02, 4.24272177e-02,\n",
    "       4.36311638e-02, 4.50121161e-02, 4.62638004e-02, 4.69334210e-02,\n",
    "       4.82076153e-02, 4.97647258e-02, 4.99519472e-02, 5.16775608e-02,\n",
    "       5.31130534e-02, 5.30846088e-02, 5.46388458e-02, 5.67281525e-02,\n",
    "       5.86522957e-02, 5.90331215e-02, 6.14186184e-02, 6.25037283e-02,\n",
    "       6.56813424e-02, 6.29126696e-02, 6.17826163e-02, 5.98024055e-02,\n",
    "       5.51713339e-02, 5.19833105e-02, 4.57502257e-02, 4.25872869e-02,\n",
    "       3.81978491e-02, 3.23877045e-02, 2.64170327e-02, 2.34498785e-02,\n",
    "       1.98288241e-02, 1.55873013e-02, 1.39437820e-02, 9.54679524e-03,\n",
    "       6.47984793e-03, 5.44900603e-03, 4.16569436e-03, 2.95379814e-03,\n",
    "       2.11928454e-03, 1.40211279e-03, 1.04131959e-03, 6.62699202e-04,\n",
    "       3.25848035e-04, 1.49320079e-04, 8.09204735e-06, 0.00000000e+00])"
   ]
  },
  {
   "cell_type": "code",
   "execution_count": 171,
   "metadata": {},
   "outputs": [
    {
     "ename": "TypingError",
     "evalue": "Failed in nopython mode pipeline (step: nopython frontend)\n\u001b[1m\u001b[1m\u001b[1m\u001b[1mFailed in nopython mode pipeline (step: nopython frontend)\n\u001b[1m\u001b[1m\u001b[1m\u001b[1mFailed in nopython mode pipeline (step: nopython frontend)\n\u001b[1m\u001b[1mNo implementation of function Function(<built-in function getitem>) found for signature:\n \n >>> getitem(float64, int64)\n \nThere are 16 candidate implementations:\n\u001b[1m      - Of which 16 did not match due to:\n      Overload of function 'getitem': File: <numerous>: Line N/A.\n        With argument(s): '(float64, int64)':\u001b[0m\n\u001b[1m       No match.\u001b[0m\n\u001b[0m\n\u001b[0m\u001b[1mDuring: typing of intrinsic-call at <ipython-input-160-749fc07ed2d5> (11)\u001b[0m\n\u001b[1m\nFile \"<ipython-input-160-749fc07ed2d5>\", line 11:\u001b[0m\n\u001b[1mdef linear_interp(x, xp, fp):\n    <source elided>\n        x0, x1 = xp[j - 1], xp[j]\n\u001b[1m        y0, y1 = fp[j - 1], fp[j]\n\u001b[0m        \u001b[1m^\u001b[0m\u001b[0m\n\n\u001b[0m\u001b[1mDuring: resolving callee type: type(CPUDispatcher(<function linear_interp at 0x7fbc5a082160>))\u001b[0m\n\u001b[0m\u001b[1mDuring: typing of call at <ipython-input-160-749fc07ed2d5> (26)\n\u001b[0m\n\u001b[0m\u001b[1mDuring: resolving callee type: type(CPUDispatcher(<function linear_interp at 0x7fbc5a082160>))\u001b[0m\n\u001b[0m\u001b[1mDuring: typing of call at <ipython-input-160-749fc07ed2d5> (26)\n\u001b[0m\n\u001b[1m\nFile \"<ipython-input-160-749fc07ed2d5>\", line 26:\u001b[0m\n\u001b[1mdef _optimised_mass_per_bin(time_points, sfh, time_edges, sample_rate=25):\n    <source elided>\n        x = np.linspace(time_edges[num], time_edges[num + 1], sample_rate)\n\u001b[1m        y = linear_interp(x, time_points, sfh)\n\u001b[0m        \u001b[1m^\u001b[0m\u001b[0m\n\n\u001b[0m\u001b[1mDuring: resolving callee type: type(CPUDispatcher(<function _optimised_mass_per_bin at 0x7fbc5a1fc9d0>))\u001b[0m\n\u001b[0m\u001b[1mDuring: typing of call at <ipython-input-159-c663fa2916b3> (5)\n\u001b[0m\n\u001b[0m\u001b[1mDuring: resolving callee type: type(CPUDispatcher(<function _optimised_mass_per_bin at 0x7fbc5a1fc9d0>))\u001b[0m\n\u001b[0m\u001b[1mDuring: typing of call at <ipython-input-159-c663fa2916b3> (5)\n\u001b[0m\n\u001b[1m\nFile \"<ipython-input-159-c663fa2916b3>\", line 5:\u001b[0m\n\u001b[1mdef _grid_rate_calculator_over_time(bpass_rate, SFH, time_points, nr_time_bins):\n    <source elided>\n    time_edges = np.linspace(0, current_time, nr_time_bins + 1)\n\u001b[1m    mass_per_bin = _optimised_mass_per_bin(time_points, SFH, time_edges, sample_rate=25)\n\u001b[0m    \u001b[1m^\u001b[0m\u001b[0m\n",
     "output_type": "error",
     "traceback": [
      "\u001b[0;31m---------------------------------------------------------------------------\u001b[0m",
      "\u001b[0;31mTypingError\u001b[0m                               Traceback (most recent call last)",
      "\u001b[0;32m<ipython-input-171-6dfd91dc9b82>\u001b[0m in \u001b[0;36m<module>\u001b[0;34m\u001b[0m\n\u001b[0;32m----> 1\u001b[0;31m \u001b[0mout\u001b[0m \u001b[0;34m=\u001b[0m \u001b[0mer_csp\u001b[0m\u001b[0;34m.\u001b[0m\u001b[0mgrid_over_time\u001b[0m\u001b[0;34m(\u001b[0m\u001b[0msingle_SFH\u001b[0m\u001b[0;34m,\u001b[0m \u001b[0mlookback_time\u001b[0m\u001b[0;34m,\u001b[0m \u001b[0;36m100\u001b[0m\u001b[0;34m)\u001b[0m\u001b[0;34m\u001b[0m\u001b[0;34m\u001b[0m\u001b[0m\n\u001b[0m",
      "\u001b[0;32m<ipython-input-159-c663fa2916b3>\u001b[0m in \u001b[0;36mgrid_over_time\u001b[0;34m(self, SFH_list, time_points, nr_time_bins, return_time_edges)\u001b[0m\n\u001b[1;32m     55\u001b[0m         \u001b[0;32mfor\u001b[0m \u001b[0msfh\u001b[0m \u001b[0;32min\u001b[0m \u001b[0mrange\u001b[0m\u001b[0;34m(\u001b[0m\u001b[0mnr_sfh\u001b[0m\u001b[0;34m)\u001b[0m\u001b[0;34m:\u001b[0m\u001b[0;34m\u001b[0m\u001b[0;34m\u001b[0m\u001b[0m\n\u001b[1;32m     56\u001b[0m             \u001b[0;31m# Pass self.bpass_rate as an argument\u001b[0m\u001b[0;34m\u001b[0m\u001b[0;34m\u001b[0m\u001b[0;34m\u001b[0m\u001b[0m\n\u001b[0;32m---> 57\u001b[0;31m             event_rate_list[sfh] = _grid_rate_calculator_over_time(\n\u001b[0m\u001b[1;32m     58\u001b[0m                 \u001b[0mself\u001b[0m\u001b[0;34m.\u001b[0m\u001b[0mbpass_rate\u001b[0m\u001b[0;34m,\u001b[0m \u001b[0mSFH_list\u001b[0m\u001b[0;34m[\u001b[0m\u001b[0msfh\u001b[0m\u001b[0;34m]\u001b[0m\u001b[0;34m,\u001b[0m \u001b[0mtime_points\u001b[0m\u001b[0;34m,\u001b[0m \u001b[0mnr_time_bins\u001b[0m\u001b[0;34m\u001b[0m\u001b[0;34m\u001b[0m\u001b[0m\n\u001b[1;32m     59\u001b[0m             )\n",
      "\u001b[0;32m/opt/anaconda3/lib/python3.8/site-packages/numba/core/dispatcher.py\u001b[0m in \u001b[0;36m_compile_for_args\u001b[0;34m(self, *args, **kws)\u001b[0m\n\u001b[1;32m    413\u001b[0m                 \u001b[0me\u001b[0m\u001b[0;34m.\u001b[0m\u001b[0mpatch_message\u001b[0m\u001b[0;34m(\u001b[0m\u001b[0mmsg\u001b[0m\u001b[0;34m)\u001b[0m\u001b[0;34m\u001b[0m\u001b[0;34m\u001b[0m\u001b[0m\n\u001b[1;32m    414\u001b[0m \u001b[0;34m\u001b[0m\u001b[0m\n\u001b[0;32m--> 415\u001b[0;31m             \u001b[0merror_rewrite\u001b[0m\u001b[0;34m(\u001b[0m\u001b[0me\u001b[0m\u001b[0;34m,\u001b[0m \u001b[0;34m'typing'\u001b[0m\u001b[0;34m)\u001b[0m\u001b[0;34m\u001b[0m\u001b[0;34m\u001b[0m\u001b[0m\n\u001b[0m\u001b[1;32m    416\u001b[0m         \u001b[0;32mexcept\u001b[0m \u001b[0merrors\u001b[0m\u001b[0;34m.\u001b[0m\u001b[0mUnsupportedError\u001b[0m \u001b[0;32mas\u001b[0m \u001b[0me\u001b[0m\u001b[0;34m:\u001b[0m\u001b[0;34m\u001b[0m\u001b[0;34m\u001b[0m\u001b[0m\n\u001b[1;32m    417\u001b[0m             \u001b[0;31m# Something unsupported is present in the user code, add help info\u001b[0m\u001b[0;34m\u001b[0m\u001b[0;34m\u001b[0m\u001b[0;34m\u001b[0m\u001b[0m\n",
      "\u001b[0;32m/opt/anaconda3/lib/python3.8/site-packages/numba/core/dispatcher.py\u001b[0m in \u001b[0;36merror_rewrite\u001b[0;34m(e, issue_type)\u001b[0m\n\u001b[1;32m    356\u001b[0m                 \u001b[0;32mraise\u001b[0m \u001b[0me\u001b[0m\u001b[0;34m\u001b[0m\u001b[0;34m\u001b[0m\u001b[0m\n\u001b[1;32m    357\u001b[0m             \u001b[0;32melse\u001b[0m\u001b[0;34m:\u001b[0m\u001b[0;34m\u001b[0m\u001b[0;34m\u001b[0m\u001b[0m\n\u001b[0;32m--> 358\u001b[0;31m                 \u001b[0mreraise\u001b[0m\u001b[0;34m(\u001b[0m\u001b[0mtype\u001b[0m\u001b[0;34m(\u001b[0m\u001b[0me\u001b[0m\u001b[0;34m)\u001b[0m\u001b[0;34m,\u001b[0m \u001b[0me\u001b[0m\u001b[0;34m,\u001b[0m \u001b[0;32mNone\u001b[0m\u001b[0;34m)\u001b[0m\u001b[0;34m\u001b[0m\u001b[0;34m\u001b[0m\u001b[0m\n\u001b[0m\u001b[1;32m    359\u001b[0m \u001b[0;34m\u001b[0m\u001b[0m\n\u001b[1;32m    360\u001b[0m         \u001b[0margtypes\u001b[0m \u001b[0;34m=\u001b[0m \u001b[0;34m[\u001b[0m\u001b[0;34m]\u001b[0m\u001b[0;34m\u001b[0m\u001b[0;34m\u001b[0m\u001b[0m\n",
      "\u001b[0;32m/opt/anaconda3/lib/python3.8/site-packages/numba/core/utils.py\u001b[0m in \u001b[0;36mreraise\u001b[0;34m(tp, value, tb)\u001b[0m\n\u001b[1;32m     78\u001b[0m         \u001b[0mvalue\u001b[0m \u001b[0;34m=\u001b[0m \u001b[0mtp\u001b[0m\u001b[0;34m(\u001b[0m\u001b[0;34m)\u001b[0m\u001b[0;34m\u001b[0m\u001b[0;34m\u001b[0m\u001b[0m\n\u001b[1;32m     79\u001b[0m     \u001b[0;32mif\u001b[0m \u001b[0mvalue\u001b[0m\u001b[0;34m.\u001b[0m\u001b[0m__traceback__\u001b[0m \u001b[0;32mis\u001b[0m \u001b[0;32mnot\u001b[0m \u001b[0mtb\u001b[0m\u001b[0;34m:\u001b[0m\u001b[0;34m\u001b[0m\u001b[0;34m\u001b[0m\u001b[0m\n\u001b[0;32m---> 80\u001b[0;31m         \u001b[0;32mraise\u001b[0m \u001b[0mvalue\u001b[0m\u001b[0;34m.\u001b[0m\u001b[0mwith_traceback\u001b[0m\u001b[0;34m(\u001b[0m\u001b[0mtb\u001b[0m\u001b[0;34m)\u001b[0m\u001b[0;34m\u001b[0m\u001b[0;34m\u001b[0m\u001b[0m\n\u001b[0m\u001b[1;32m     81\u001b[0m     \u001b[0;32mraise\u001b[0m \u001b[0mvalue\u001b[0m\u001b[0;34m\u001b[0m\u001b[0;34m\u001b[0m\u001b[0m\n\u001b[1;32m     82\u001b[0m \u001b[0;34m\u001b[0m\u001b[0m\n",
      "\u001b[0;31mTypingError\u001b[0m: Failed in nopython mode pipeline (step: nopython frontend)\n\u001b[1m\u001b[1m\u001b[1m\u001b[1mFailed in nopython mode pipeline (step: nopython frontend)\n\u001b[1m\u001b[1m\u001b[1m\u001b[1mFailed in nopython mode pipeline (step: nopython frontend)\n\u001b[1m\u001b[1mNo implementation of function Function(<built-in function getitem>) found for signature:\n \n >>> getitem(float64, int64)\n \nThere are 16 candidate implementations:\n\u001b[1m      - Of which 16 did not match due to:\n      Overload of function 'getitem': File: <numerous>: Line N/A.\n        With argument(s): '(float64, int64)':\u001b[0m\n\u001b[1m       No match.\u001b[0m\n\u001b[0m\n\u001b[0m\u001b[1mDuring: typing of intrinsic-call at <ipython-input-160-749fc07ed2d5> (11)\u001b[0m\n\u001b[1m\nFile \"<ipython-input-160-749fc07ed2d5>\", line 11:\u001b[0m\n\u001b[1mdef linear_interp(x, xp, fp):\n    <source elided>\n        x0, x1 = xp[j - 1], xp[j]\n\u001b[1m        y0, y1 = fp[j - 1], fp[j]\n\u001b[0m        \u001b[1m^\u001b[0m\u001b[0m\n\n\u001b[0m\u001b[1mDuring: resolving callee type: type(CPUDispatcher(<function linear_interp at 0x7fbc5a082160>))\u001b[0m\n\u001b[0m\u001b[1mDuring: typing of call at <ipython-input-160-749fc07ed2d5> (26)\n\u001b[0m\n\u001b[0m\u001b[1mDuring: resolving callee type: type(CPUDispatcher(<function linear_interp at 0x7fbc5a082160>))\u001b[0m\n\u001b[0m\u001b[1mDuring: typing of call at <ipython-input-160-749fc07ed2d5> (26)\n\u001b[0m\n\u001b[1m\nFile \"<ipython-input-160-749fc07ed2d5>\", line 26:\u001b[0m\n\u001b[1mdef _optimised_mass_per_bin(time_points, sfh, time_edges, sample_rate=25):\n    <source elided>\n        x = np.linspace(time_edges[num], time_edges[num + 1], sample_rate)\n\u001b[1m        y = linear_interp(x, time_points, sfh)\n\u001b[0m        \u001b[1m^\u001b[0m\u001b[0m\n\n\u001b[0m\u001b[1mDuring: resolving callee type: type(CPUDispatcher(<function _optimised_mass_per_bin at 0x7fbc5a1fc9d0>))\u001b[0m\n\u001b[0m\u001b[1mDuring: typing of call at <ipython-input-159-c663fa2916b3> (5)\n\u001b[0m\n\u001b[0m\u001b[1mDuring: resolving callee type: type(CPUDispatcher(<function _optimised_mass_per_bin at 0x7fbc5a1fc9d0>))\u001b[0m\n\u001b[0m\u001b[1mDuring: typing of call at <ipython-input-159-c663fa2916b3> (5)\n\u001b[0m\n\u001b[1m\nFile \"<ipython-input-159-c663fa2916b3>\", line 5:\u001b[0m\n\u001b[1mdef _grid_rate_calculator_over_time(bpass_rate, SFH, time_points, nr_time_bins):\n    <source elided>\n    time_edges = np.linspace(0, current_time, nr_time_bins + 1)\n\u001b[1m    mass_per_bin = _optimised_mass_per_bin(time_points, SFH, time_edges, sample_rate=25)\n\u001b[0m    \u001b[1m^\u001b[0m\u001b[0m\n"
     ]
    }
   ],
   "source": [
    "out = er_csp.grid_over_time(single_SFH, lookback_time, 100)"
   ]
  },
  {
   "cell_type": "code",
   "execution_count": null,
   "metadata": {},
   "outputs": [],
   "source": []
  },
  {
   "cell_type": "code",
   "execution_count": null,
   "metadata": {},
   "outputs": [],
   "source": []
  },
  {
   "cell_type": "code",
   "execution_count": null,
   "metadata": {},
   "outputs": [],
   "source": []
  },
  {
   "cell_type": "code",
   "execution_count": null,
   "metadata": {},
   "outputs": [],
   "source": []
  },
  {
   "cell_type": "code",
   "execution_count": null,
   "metadata": {},
   "outputs": [],
   "source": []
  },
  {
   "cell_type": "code",
   "execution_count": null,
   "metadata": {},
   "outputs": [],
   "source": []
  },
  {
   "cell_type": "code",
   "execution_count": null,
   "metadata": {},
   "outputs": [],
   "source": []
  },
  {
   "cell_type": "code",
   "execution_count": null,
   "metadata": {},
   "outputs": [],
   "source": []
  },
  {
   "cell_type": "code",
   "execution_count": null,
   "metadata": {},
   "outputs": [],
   "source": []
  }
 ],
 "metadata": {
  "kernelspec": {
   "display_name": "Python 3",
   "language": "python",
   "name": "python3"
  },
  "language_info": {
   "codemirror_mode": {
    "name": "ipython",
    "version": 3
   },
   "file_extension": ".py",
   "mimetype": "text/x-python",
   "name": "python",
   "nbconvert_exporter": "python",
   "pygments_lexer": "ipython3",
   "version": "3.8.3"
  }
 },
 "nbformat": 4,
 "nbformat_minor": 4
}
