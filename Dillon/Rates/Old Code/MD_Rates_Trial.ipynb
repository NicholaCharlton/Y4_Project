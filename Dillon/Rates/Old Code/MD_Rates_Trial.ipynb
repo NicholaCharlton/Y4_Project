{
 "cells": [
  {
   "cell_type": "code",
   "execution_count": 1,
   "metadata": {},
   "outputs": [],
   "source": [
    "import h5py\n",
    "import numpy as np\n",
    "import matplotlib.pyplot as plt\n",
    "import matplotlib as mpl\n",
    "import pandas as pd\n",
    "import scipy.integrate as spi"
   ]
  },
  {
   "cell_type": "code",
   "execution_count": 2,
   "metadata": {},
   "outputs": [],
   "source": [
    "path = \"/Users/dillon/Desktop\"\n",
    "data = h5py.File(f\"{path}/data.h5\", \"r\")\n",
    "\n",
    "SFH = data[\"SFH\"]"
   ]
  },
  {
   "cell_type": "code",
   "execution_count": 5,
   "metadata": {},
   "outputs": [],
   "source": [
    "DTD = data[\"DTD\"]\n",
    "\n",
    "event_types = [\"Ia\", \"IIP\", \"II\", \"Ib\", \"Ic\", \"LGRB\", \"PISNe\", \"BBH\", \"BHNS\", \"BNS\"]\n",
    "metallicities = [\"z001\", \"z002\", \"z003\", \"z004\", \"z006\", \"z008\", \"z010\", \"z014\", \"z020\", \"z030\", \"z040\", \"zem4\", \"zem5\" ]\n",
    "\n",
    "\n",
    "event_total = {}\n",
    "for i in (metallicities):\n",
    "    event_total[i] = {}\n",
    "    for j in event_types:\n",
    "        event_total[i][j] = DTD[j][i][:]\n",
    "    event_total[i][\"CCSN\"] = event_total[i][\"II\"] + event_total[i][\"Ib\"] + event_total[i][\"Ic\"] + event_total[i][\"IIP\"]\n",
    "\n",
    "\n",
    "Z1 = metallicities[8] \n",
    "\n",
    "x1 = event_total[Z1]\n",
    "DTD = x1[\"CCSN\"]\n",
    "\n",
    "\n",
    "bin_centres = data['DTD'].attrs['bin_centres']"
   ]
  },
  {
   "cell_type": "markdown",
   "metadata": {},
   "source": [
    "##### SFH"
   ]
  },
  {
   "cell_type": "code",
   "execution_count": 65,
   "metadata": {},
   "outputs": [],
   "source": [
    "z = np.linspace(0, 20, 10000)\n",
    "\n",
    "M_D = 0.015 * (1 + z)**2.7 / (1 + ((1 + z) / 2.9)**5.6)\n",
    "\n",
    "trans_M_D = 0.66 * M_D"
   ]
  },
  {
   "cell_type": "code",
   "execution_count": 66,
   "metadata": {},
   "outputs": [],
   "source": [
    "h = SFH.attrs['h']\n",
    "omega_M = SFH.attrs['omega_M']\n",
    "omega_L = SFH.attrs['omega_L']"
   ]
  },
  {
   "cell_type": "code",
   "execution_count": 67,
   "metadata": {},
   "outputs": [],
   "source": [
    "@np.vectorize\n",
    "def lookback(z, omega1, omega2, hubble):\n",
    "    \n",
    "    def f(x):\n",
    "        a = np.sqrt(omega1*(1+x)**3 + omega2)\n",
    "        return 1/((1+x)*a)\n",
    "    t_hubble = (1/(100*hubble))*3.0856776*10**19\n",
    "    return t_hubble *spi.quad(f, 0, z)[0]/(60*60*24*365.2388526*1e9)"
   ]
  },
  {
   "cell_type": "code",
   "execution_count": 68,
   "metadata": {},
   "outputs": [
    {
     "data": {
      "text/plain": [
       "Text(0.5, 0, 'Lookback Time (Gyr)')"
      ]
     },
     "execution_count": 68,
     "metadata": {},
     "output_type": "execute_result"
    },
    {
     "data": {
      "image/png": "[encoded data removed]",
      "text/plain": [
       "<Figure size 432x288 with 1 Axes>"
      ]
     },
     "metadata": {
      "needs_background": "light"
     },
     "output_type": "display_data"
    }
   ],
   "source": [
    "plt.plot(lookback(z, omega_M, omega_L, h), trans_M_D)\n",
    "plt.xlim(0, 14)\n",
    "plt.ylim(6e-4,2e-1)\n",
    "plt.yscale('log')\n",
    "plt.ylabel('SFH ($M_{\\odot} yr^{-1} Mpc^{-3}$)')\n",
    "plt.xlabel('Lookback Time (Gyr)')"
   ]
  },
  {
   "cell_type": "code",
   "execution_count": 69,
   "metadata": {},
   "outputs": [],
   "source": [
    "num_bins = 50\n",
    "\n",
    "\n",
    "bin_lookback_times = np.linspace(13.6, 0, num_bins + 1)\n",
    "\n",
    "integrated_SFH = np.zeros(num_bins)\n",
    "\n",
    "\n",
    "for i in range(num_bins):\n",
    "\n",
    "    bin_mask = np.logical_and(lookback(z, omega_M, omega_L, h) <= bin_lookback_times[i], lookback(z, omega_M, omega_L, h) > bin_lookback_times[i + 1])\n",
    "    bin_M_D = trans_M_D[bin_mask][::-1] \n",
    "    integrated_SFH[i] = spi.simps(bin_M_D, z[bin_mask][::-1])  \n",
    "\n",
    "\n",
    "integrated_SFH = np.abs(integrated_SFH)"
   ]
  },
  {
   "cell_type": "code",
   "execution_count": 70,
   "metadata": {},
   "outputs": [
    {
     "data": {
      "text/plain": [
       "array([0.0139493 , 0.01644406, 0.01811781, 0.0193074 , 0.02012832,\n",
       "       0.02053183, 0.02039589, 0.01994215, 0.0188173 , 0.01777419,\n",
       "       0.01605487, 0.01429558, 0.01279378, 0.01104352, 0.0095305 ,\n",
       "       0.00832142, 0.00713182, 0.00614651, 0.00522881, 0.0045149 ,\n",
       "       0.00386518, 0.00338746, 0.00295367, 0.00256324, 0.00221422,\n",
       "       0.0019838 , 0.00177331, 0.00151223, 0.00134764, 0.00119879,\n",
       "       0.00100703, 0.00100074, 0.00083465, 0.00073682, 0.00069395,\n",
       "       0.00061018, 0.00057506, 0.0005035 , 0.00047505, 0.00041401,\n",
       "       0.00035939, 0.00037082, 0.00029257, 0.00030505, 0.00026255,\n",
       "       0.00024888, 0.00021262, 0.00020212, 0.00019195, 0.0001623 ])"
      ]
     },
     "execution_count": 70,
     "metadata": {},
     "output_type": "execute_result"
    }
   ],
   "source": [
    "integrated_SFH"
   ]
  },
  {
   "cell_type": "code",
   "execution_count": 71,
   "metadata": {},
   "outputs": [],
   "source": [
    "bin_size_gyrs = np.abs(np.diff(bin_lookback_times))\n",
    "bin_size_gyrs = bin_size_gyrs[0]\n",
    "bin_size_gyrs = round(bin_size_gyrs, 2)"
   ]
  },
  {
   "cell_type": "markdown",
   "metadata": {},
   "source": [
    "##### DTD"
   ]
  },
  {
   "cell_type": "code",
   "execution_count": 72,
   "metadata": {},
   "outputs": [
    {
     "data": {
      "image/png": "[encoded data removed]",
      "text/plain": [
       "<Figure size 432x288 with 1 Axes>"
      ]
     },
     "metadata": {
      "needs_background": "light"
     },
     "output_type": "display_data"
    }
   ],
   "source": [
    "plt.step(bin_centres, DTD)\n",
    "plt.yscale('log')"
   ]
  },
  {
   "cell_type": "code",
   "execution_count": 73,
   "metadata": {},
   "outputs": [],
   "source": [
    "linear_bin_centres = 10**bin_centres\n",
    "linear_bin_centres_gyrs = linear_bin_centres / 1e9"
   ]
  },
  {
   "cell_type": "code",
   "execution_count": 74,
   "metadata": {},
   "outputs": [
    {
     "data": {
      "image/png": "[encoded data removed]",
      "text/plain": [
       "<Figure size 432x288 with 1 Axes>"
      ]
     },
     "metadata": {
      "needs_background": "light"
     },
     "output_type": "display_data"
    }
   ],
   "source": [
    "plt.step(linear_bin_centres_gyrs, DTD)\n",
    "plt.xlabel('Delay Time (Gyr)')\n",
    "plt.ylabel('Venet Rate ($yr^{-1} M_{\\odot}^{-1}$)')\n",
    "plt.xscale('log')\n",
    "plt.yscale('log')"
   ]
  },
  {
   "cell_type": "code",
   "execution_count": 75,
   "metadata": {},
   "outputs": [],
   "source": [
    "mask = (linear_bin_centres_gyrs >= 0) & (linear_bin_centres_gyrs <= 13.6)\n",
    "\n",
    "\n",
    "filtered_linear_bin_centres_gyrs = linear_bin_centres_gyrs[mask]\n",
    "filtered_DTD = DTD[mask]"
   ]
  },
  {
   "cell_type": "code",
   "execution_count": 76,
   "metadata": {},
   "outputs": [],
   "source": [
    "bin_edges = np.arange(0, 13.6 + bin_size_gyrs, bin_size_gyrs)\n",
    "\n",
    "\n",
    "digitized = np.digitize(filtered_linear_bin_centres_gyrs, bin_edges)\n",
    "\n",
    "\n",
    "integrated_DTD = np.zeros(len(bin_edges) - 1)\n",
    "\n",
    "\n",
    "for i in range(1, len(bin_edges)):\n",
    "    bin_mask = (digitized == i)\n",
    "    \n",
    "    if np.any(bin_mask):  \n",
    "        integrated_DTD[i - 1] = spi.simps(filtered_DTD[bin_mask], filtered_linear_bin_centres_gyrs[bin_mask])\n",
    "\n"
   ]
  },
  {
   "cell_type": "code",
   "execution_count": 77,
   "metadata": {},
   "outputs": [
    {
     "data": {
      "text/plain": [
       "array([8.01733336e-12, 0.00000000e+00, 0.00000000e+00, 0.00000000e+00,\n",
       "       0.00000000e+00, 0.00000000e+00, 0.00000000e+00, 0.00000000e+00,\n",
       "       0.00000000e+00, 0.00000000e+00, 0.00000000e+00, 0.00000000e+00,\n",
       "       0.00000000e+00, 0.00000000e+00, 0.00000000e+00, 0.00000000e+00,\n",
       "       0.00000000e+00, 0.00000000e+00, 0.00000000e+00, 0.00000000e+00,\n",
       "       0.00000000e+00, 0.00000000e+00, 0.00000000e+00, 0.00000000e+00,\n",
       "       0.00000000e+00, 0.00000000e+00, 0.00000000e+00, 0.00000000e+00,\n",
       "       0.00000000e+00, 0.00000000e+00, 0.00000000e+00, 0.00000000e+00,\n",
       "       0.00000000e+00, 0.00000000e+00, 0.00000000e+00, 0.00000000e+00,\n",
       "       0.00000000e+00, 0.00000000e+00, 0.00000000e+00, 0.00000000e+00,\n",
       "       0.00000000e+00, 0.00000000e+00, 0.00000000e+00, 0.00000000e+00,\n",
       "       0.00000000e+00, 0.00000000e+00, 0.00000000e+00, 0.00000000e+00,\n",
       "       0.00000000e+00, 0.00000000e+00, 0.00000000e+00])"
      ]
     },
     "execution_count": 77,
     "metadata": {},
     "output_type": "execute_result"
    }
   ],
   "source": [
    "integrated_DTD"
   ]
  },
  {
   "cell_type": "code",
   "execution_count": 79,
   "metadata": {},
   "outputs": [],
   "source": [
    "rates = np.zeros(num_bins)\n",
    "\n",
    "for i in range(num_bins):\n",
    "    rate = 0.0  \n",
    "    for j in range(i + 1):\n",
    "        \n",
    "        rate += integrated_SFH[j] * integrated_DTD[i - j]\n",
    "    rates[i] = rate / bin_size_gyrs  "
   ]
  },
  {
   "cell_type": "code",
   "execution_count": 80,
   "metadata": {
    "scrolled": true
   },
   "outputs": [
    {
     "data": {
      "text/plain": [
       "array([4.14208216e-13, 4.88287038e-13, 5.37987262e-13, 5.73310687e-13,\n",
       "       5.97686928e-13, 6.09668554e-13, 6.05631967e-13, 5.92158777e-13,\n",
       "       5.58757752e-13, 5.27783805e-13, 4.76730567e-13, 4.24490416e-13,\n",
       "       3.79896358e-13, 3.27924362e-13, 2.82997043e-13, 2.47094891e-13,\n",
       "       2.11771100e-13, 1.82513394e-13, 1.55263322e-13, 1.34064751e-13,\n",
       "       1.14772038e-13, 1.00586652e-13, 8.77057722e-14, 7.61123397e-14,\n",
       "       6.57486267e-14, 5.89064974e-14, 5.26563342e-14, 4.49040343e-14,\n",
       "       4.00166050e-14, 3.55965973e-14, 2.99024378e-14, 2.97157664e-14,\n",
       "       2.47840115e-14, 2.18790936e-14, 2.06061796e-14, 1.81184727e-14,\n",
       "       1.70758426e-14, 1.49509104e-14, 1.41059351e-14, 1.22934627e-14,\n",
       "       1.06715679e-14, 1.10111023e-14, 8.68745290e-15, 9.05802909e-15,\n",
       "       7.79603792e-15, 7.39018245e-15, 6.31343967e-15, 6.00179815e-15,\n",
       "       5.69976298e-15, 4.81918485e-15])"
      ]
     },
     "execution_count": 80,
     "metadata": {},
     "output_type": "execute_result"
    }
   ],
   "source": [
    "rates"
   ]
  },
  {
   "cell_type": "code",
   "execution_count": 83,
   "metadata": {},
   "outputs": [],
   "source": [
    "bin_centers_linear = (bin_edges[:-1] + bin_edges[1:]) / 2\n",
    "bin_centers_linear = bin_centers_linear[:-1]"
   ]
  },
  {
   "cell_type": "code",
   "execution_count": 84,
   "metadata": {},
   "outputs": [
    {
     "data": {
      "image/png": "[encoded data removed]",
      "text/plain": [
       "<Figure size 432x288 with 1 Axes>"
      ]
     },
     "metadata": {
      "needs_background": "light"
     },
     "output_type": "display_data"
    }
   ],
   "source": [
    "plt.plot(bin_centers_linear, rates)\n",
    "plt.yscale('log')"
   ]
  },
  {
   "cell_type": "code",
   "execution_count": null,
   "metadata": {},
   "outputs": [],
   "source": []
  }
 ],
 "metadata": {
  "kernelspec": {
   "display_name": "Python 3",
   "language": "python",
   "name": "python3"
  },
  "language_info": {
   "codemirror_mode": {
    "name": "ipython",
    "version": 3
   },
   "file_extension": ".py",
   "mimetype": "text/x-python",
   "name": "python",
   "nbconvert_exporter": "python",
   "pygments_lexer": "ipython3",
   "version": "3.8.3"
  }
 },
 "nbformat": 4,
 "nbformat_minor": 4
}
