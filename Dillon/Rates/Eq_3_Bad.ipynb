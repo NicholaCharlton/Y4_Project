{
 "cells": [
  {
   "cell_type": "markdown",
   "metadata": {},
   "source": [
    "#### Attempting Equation 3"
   ]
  },
  {
   "cell_type": "markdown",
   "metadata": {},
   "source": [
    "Trying to 'hard code' Equation 3 from the Briel paper \n",
    "\n",
    "\n",
    "This code tries to calculate a rate for a specific transient event (Ia) for a certain metallicity (z020)"
   ]
  },
  {
   "cell_type": "markdown",
   "metadata": {},
   "source": [
    "###### Imports"
   ]
  },
  {
   "cell_type": "code",
   "execution_count": 1,
   "metadata": {},
   "outputs": [],
   "source": [
    "import matplotlib as mpl\n",
    "import matplotlib.pyplot as plt\n",
    "import h5py\n",
    "from pylab import cm\n",
    "import numpy as np\n",
    "import scipy.integrate\n",
    "from scipy.integrate import quad\n",
    "from scipy.interpolate import interp1d"
   ]
  },
  {
   "cell_type": "markdown",
   "metadata": {},
   "source": [
    "###### Data"
   ]
  },
  {
   "cell_type": "code",
   "execution_count": 2,
   "metadata": {},
   "outputs": [],
   "source": [
    "path = \"/Users/dillon/Desktop\"\n",
    "file = h5py.File(f\"{path}/data.h5\", \"r\")\n",
    "DTD = file[\"DTD\"]\n",
    "SFH = file[\"SFH\"]"
   ]
  },
  {
   "cell_type": "code",
   "execution_count": 3,
   "metadata": {},
   "outputs": [],
   "source": [
    "event_types = [\"Ia\", \"IIP\", \"II\", \"Ib\", \"Ic\", \"LGRB\", \"PISNe\", \"BBH\", \"BHNS\", \"BNS\"]"
   ]
  },
  {
   "cell_type": "code",
   "execution_count": 4,
   "metadata": {},
   "outputs": [],
   "source": [
    "metallicities = [\"z001\", \"z002\", \"z003\", \"z004\", \"z006\", \"z008\", \"z010\", \"z014\", \"z020\", \"z030\", \"z040\", \"zem4\", \"zem5\" ]"
   ]
  },
  {
   "cell_type": "code",
   "execution_count": 5,
   "metadata": {},
   "outputs": [],
   "source": [
    "event_total = {}\n",
    "for i in (metallicities):\n",
    "    event_total[i] = {}\n",
    "    for j in event_types:\n",
    "        event_total[i][j] = DTD[j][i][:]\n",
    "    event_total[i][\"CCSN\"] = event_total[i][\"II\"] + event_total[i][\"Ib\"] + event_total[i][\"Ic\"] + event_total[i][\"IIP\"]"
   ]
  },
  {
   "cell_type": "code",
   "execution_count": 6,
   "metadata": {},
   "outputs": [],
   "source": [
    "Z1 = metallicities[8] \n",
    "Z2 = metallicities[0]"
   ]
  },
  {
   "cell_type": "code",
   "execution_count": 7,
   "metadata": {},
   "outputs": [],
   "source": [
    "x1 = event_total[Z1]\n",
    "x2 = event_total[Z2]"
   ]
  },
  {
   "cell_type": "markdown",
   "metadata": {},
   "source": [
    "Checking DTD"
   ]
  },
  {
   "cell_type": "code",
   "execution_count": 8,
   "metadata": {},
   "outputs": [
    {
     "data": {
      "text/plain": [
       "(1e-15, 1e-11)"
      ]
     },
     "execution_count": 8,
     "metadata": {},
     "output_type": "execute_result"
    },
    {
     "data": {
      "image/png": "[encoded data removed]",
      "text/plain": [
       "<Figure size 432x288 with 1 Axes>"
      ]
     },
     "metadata": {
      "needs_background": "light"
     },
     "output_type": "display_data"
    }
   ],
   "source": [
    "plt.step(file['DTD'].attrs['bin_centres'], x1[\"Ia\"], where=\"post\")\n",
    "plt.yscale('log')\n",
    "plt.xlim(6, 11)\n",
    "plt.ylim(1e-15,1e-11)"
   ]
  },
  {
   "cell_type": "markdown",
   "metadata": {},
   "source": [
    "##### DTD Integral"
   ]
  },
  {
   "cell_type": "code",
   "execution_count": 9,
   "metadata": {},
   "outputs": [],
   "source": [
    "DTD = x1[\"Ia\"]\n",
    "\n",
    "bin_centres = file['DTD'].attrs['bin_centres']\n",
    "\n",
    "\n",
    "def integrate_dtd(bin_start, bin_end):\n",
    "    def integrand(t):\n",
    "        return np.interp(t, bin_centres, DTD)\n",
    "    \n",
    "    result, _ = quad(integrand, bin_start, bin_end)\n",
    "    return result\n",
    "\n",
    "\n",
    "N = len(bin_centres)\n",
    "integral_values = []\n",
    "\n",
    "for j in range(N - 1):\n",
    "    bin_start = 10 ** bin_centres[j]\n",
    "    bin_end = 10 ** bin_centres[j + 1]\n",
    "    \n",
    "    \n",
    "    integral = integrate_dtd(bin_start, bin_end)\n",
    "    integral_values.append(integral)\n",
    "\n",
    "\n"
   ]
  },
  {
   "cell_type": "code",
   "execution_count": 10,
   "metadata": {},
   "outputs": [
    {
     "name": "stdout",
     "output_type": "stream",
     "text": [
      "[1.45302579171669e-10, 1.8292510931844796e-10, 2.3028906857621987e-10, 2.899167604890127e-10, 3.649835770846608e-10, 4.594871000794145e-10, 5.78459986681584e-10, 7.282379769395611e-10, 9.167972950027875e-10, 1.1541794121431616e-09, 1.4530257917166785e-09, 1.8292510931844646e-09, 2.3028906857621793e-09, 2.8991676048901033e-09, 3.6498357708465774e-09, 4.594871000794106e-09, 5.784599866815795e-09, 7.2823797693955504e-09, 9.167972950027803e-09, 1.1541794121431519e-08, 1.4530257917166667e-08, 1.8292510931844496e-08, 2.3028906857621604e-08, 2.8991676048900792e-08, 3.6498357708465476e-08, 4.59487100079407e-08, 5.784599866815746e-08, 7.282379769395494e-08, 9.167972950027725e-08, 1.1541794121431426e-07, 1.4530257917166552e-07, 1.8292510931844336e-07, 2.302890685762143e-07, 2.8991676048900535e-07, 3.649835770846519e-07, 4.5948710007940326e-07, 5.7845998668157e-07, 7.282379769395432e-07, 9.167972950027646e-07, 1.1541794121431333e-06, 1.4530257917166434e-06, 1.829251093184419e-06, 2.3028906857621242e-06, 2.8991676048900312e-06, 3.649835770846488e-06, 4.594871000793995e-06, 5.784599866815652e-06, 7.282379769395371e-06, 9.167972950027579e-06, 1.1541794121431238e-05]\n"
     ]
    }
   ],
   "source": [
    "print(integral_values)"
   ]
  },
  {
   "cell_type": "markdown",
   "metadata": {},
   "source": [
    "##### SFH Integral"
   ]
  },
  {
   "cell_type": "code",
   "execution_count": 11,
   "metadata": {},
   "outputs": [],
   "source": [
    "tng_SFH = np.sum(SFH[\"TNG\"], axis=0)\n",
    "TNG_z = SFH['TNG'].attrs['redshift']"
   ]
  },
  {
   "cell_type": "markdown",
   "metadata": {},
   "source": [
    "Checking SFH Plot"
   ]
  },
  {
   "cell_type": "code",
   "execution_count": 12,
   "metadata": {},
   "outputs": [
    {
     "data": {
      "text/plain": [
       "(0.0, 15.0)"
      ]
     },
     "execution_count": 12,
     "metadata": {},
     "output_type": "execute_result"
    },
    {
     "data": {
      "image/png": "[encoded data removed]",
      "text/plain": [
       "<Figure size 432x288 with 1 Axes>"
      ]
     },
     "metadata": {
      "needs_background": "light"
     },
     "output_type": "display_data"
    }
   ],
   "source": [
    "plt.plot(TNG_z, tng_SFH)\n",
    "plt.yscale('log')\n",
    "plt.ylim(6e-4,2e-1)\n",
    "plt.xlim(0, 15)"
   ]
  },
  {
   "cell_type": "code",
   "execution_count": 13,
   "metadata": {},
   "outputs": [],
   "source": [
    "@np.vectorize\n",
    "def lookback(z, omega1, omega2, hubble):\n",
    "    \n",
    "    def f(x):\n",
    "        a = np.sqrt(omega1*(1+x)**3 + omega2)\n",
    "        return 1/((1+x)*a)\n",
    "    t_hubble = (1/(100*hubble))*3.0856776*10**19\n",
    "    return t_hubble *scipy.integrate.quad(f, 0, z)[0]/(60*60*24*365.2388526*1e9)"
   ]
  },
  {
   "cell_type": "code",
   "execution_count": 14,
   "metadata": {},
   "outputs": [],
   "source": [
    "h = SFH.attrs['h']\n",
    "omega_M = SFH.attrs['omega_M']\n",
    "omega_L = SFH.attrs['omega_L']"
   ]
  },
  {
   "cell_type": "code",
   "execution_count": 15,
   "metadata": {},
   "outputs": [
    {
     "data": {
      "image/png": "[encoded data removed]",
      "text/plain": [
       "<Figure size 432x288 with 1 Axes>"
      ]
     },
     "metadata": {
      "needs_background": "light"
     },
     "output_type": "display_data"
    }
   ],
   "source": [
    "plt.plot(lookback(TNG_z, omega_M, omega_L, h), tng_SFH)\n",
    "plt.yscale('log')"
   ]
  },
  {
   "cell_type": "code",
   "execution_count": 16,
   "metadata": {},
   "outputs": [],
   "source": [
    "lb_TNG = lookback(TNG_z, omega_M, omega_L, h)"
   ]
  },
  {
   "cell_type": "code",
   "execution_count": 17,
   "metadata": {},
   "outputs": [],
   "source": [
    "lb_TNG = np.array(lb_TNG)\n",
    "tng_SFH = np.array(tng_SFH)"
   ]
  },
  {
   "cell_type": "code",
   "execution_count": 18,
   "metadata": {},
   "outputs": [],
   "source": [
    "conversion = 1000000000\n",
    "tng_SFH = tng_SFH * conversion"
   ]
  },
  {
   "cell_type": "code",
   "execution_count": 19,
   "metadata": {},
   "outputs": [
    {
     "name": "stdout",
     "output_type": "stream",
     "text": [
      "[0.003497712363186841, 0.004500081325613866, 0.005760961052497002, 0.00737887920507045, 0.009549945280916029, 0.012236689405893826, 0.015573212320292528, 0.020012594768987518, 0.025923369120704934, 0.03374511185954625, 0.043550265754116184, 0.05583563700375604, 0.07132685240430095, 0.09125065128181174, 0.11678764872287013, 0.14931883565833695, 0.19091627979435957, 0.24404140775469796, 0.3114567817506939, 0.39828596088897955, 0.5116693965737876, 0.6538651918274517, 0.8386689140448592, 1.089343985181747, 1.3958216279202722, 1.7949963868112877, 2.336389035053452, 3.0305073146021826, 3.909117545643531, 5.0071981776803245, 6.422883282283481, 8.242881437447757, 10.565001218859111, 13.461342268631991, 17.06407720691642, 21.86283275827691, 28.192363736046197, 36.122966356993636, 45.73678912627273, 58.32971166033513, 75.00630573882664, 96.20417675913056, 122.28864947640298, 154.25138803710465, 197.23297498019605, 253.3792206723687, 326.7350019721567, 420.868346457128, 538.4165560182166, 682.4204297393817]\n"
     ]
    }
   ],
   "source": [
    "def integrate_tng_SFH(bin_start, bin_end):\n",
    "    def integrand(t):\n",
    "        tng_sfh_interp = interp_tng_SFH(np.log10(t))\n",
    "        return np.interp(t, bin_centres, DTD) * tng_sfh_interp\n",
    "    \n",
    "    result, _ = quad(integrand, bin_start, bin_end)\n",
    "    return result\n",
    "\n",
    "\n",
    "\n",
    "\n",
    "interp_tng_SFH = interp1d(lb_TNG, tng_SFH, kind='linear', fill_value='extrapolate')\n",
    "\n",
    "\n",
    "def integrand(t):\n",
    "    tng_sfh_interp = interp_tng_SFH(np.log10(t))\n",
    "    return np.interp(t, bin_centres, DTD) * tng_sfh_interp\n",
    "\n",
    "\n",
    "N = len(bin_centres)\n",
    "integral_values_sfh = []\n",
    "\n",
    "for j in range(N - 1):\n",
    "    bin_start = 10 ** bin_centres[j]\n",
    "    bin_end = 10 ** bin_centres[j + 1]\n",
    "    \n",
    "    \n",
    "    integral_sfh = integrate_tng_SFH(bin_start, bin_end)\n",
    "    integral_values_sfh.append(integral_sfh)\n",
    "\n",
    "\n",
    "print(integral_values_sfh)\n"
   ]
  },
  {
   "cell_type": "markdown",
   "metadata": {},
   "source": [
    "###### Rates"
   ]
  },
  {
   "cell_type": "code",
   "execution_count": 20,
   "metadata": {},
   "outputs": [
    {
     "name": "stdout",
     "output_type": "stream",
     "text": [
      "[7.361141208822128e-16, 2.959455046994925e-15, 2.2588554133316127e-15, 1.88074609081852e-15, 1.4215819107385728e-15, 1.1434469467971693e-15, 9.551356962676969e-16, 7.283606539772337e-16, 6.153426436521259e-16, 4.628369831229192e-16, 3.9131477112981016e-16, 2.9394662143960473e-16, 2.4226602033904287e-16, 1.8665667118965134e-16, 1.5344379349911111e-16, 1.1932491918966375e-16, 9.178007640851448e-17, 7.275381666410116e-17, 5.76859579824566e-17, 4.649675473237158e-17, 3.586770529655555e-17, 2.779299260485773e-17, 2.236148028848753e-17, 1.6378256149792103e-17, 1.2226238085284842e-17, 9.064167371578331e-18, 6.477778292522983e-18, 4.75844490256857e-18, 3.223233932603597e-18, 2.1762767352860523e-18, 1.5653073345497584e-18, 1.1574944559732345e-18, 8.502251664445973e-19, 5.7192967613147e-19, 3.7364392384826457e-19, 2.50555892959647e-19, 1.615060449949468e-19, 9.909927551451582e-20, 6.473119307734679e-20, 4.581108797983111e-20, 3.4581071662869207e-20, 2.5531688398848648e-20, 1.9209822677785766e-20, 1.417885449186023e-20, 1.0150129797356334e-20, 7.165032107157987e-21, 4.954724012576454e-21, 3.0124102928753696e-21, 8.238040228426751e-22, 4.4412534646125326e-24, 0]\n"
     ]
    }
   ],
   "source": [
    "\n",
    "def calculate_rate(bin_centres, DTD, lb_TNG, tng_SFH, interp_tng_SFH):\n",
    "    N = len(bin_centres)\n",
    "    rate_values = []\n",
    "\n",
    "    for j in range(N):\n",
    "        integral_dtd_j = integrate_dtd(bin_centres[j], bin_centres[-1])  \n",
    "        bin_width = 10 ** bin_centres[j] - (10 ** bin_centres[j - 1] if j > 0 else 0)\n",
    "\n",
    "        rate_j = 0\n",
    "        for i in range(j + 1, N):\n",
    "            integral_tng_sfh_i = integrate_tng_SFH(10 ** bin_centres[i - 1], 10 ** bin_centres[i])\n",
    "\n",
    "            rate_j += integral_tng_sfh_i * integral_dtd_j / bin_width\n",
    "\n",
    "        rate_values.append(rate_j)\n",
    "\n",
    "    return rate_values\n",
    "\n",
    "\n",
    "rate = calculate_rate(bin_centres, DTD, lb_TNG, tng_SFH, interp_tng_SFH)\n",
    "\n",
    "print(rate)\n"
   ]
  },
  {
   "cell_type": "code",
   "execution_count": 21,
   "metadata": {},
   "outputs": [
    {
     "data": {
      "text/plain": [
       "Text(0, 0.5, 'Rate Density')"
      ]
     },
     "execution_count": 21,
     "metadata": {},
     "output_type": "execute_result"
    },
    {
     "data": {
      "image/png": "[encoded data removed]",
      "text/plain": [
       "<Figure size 432x288 with 1 Axes>"
      ]
     },
     "metadata": {
      "needs_background": "light"
     },
     "output_type": "display_data"
    }
   ],
   "source": [
    "plt.plot(bin_centres, rate)\n",
    "plt.yscale('log')\n",
    "plt.xlabel('$log(age)$')\n",
    "plt.ylabel('Rate Density')"
   ]
  },
  {
   "cell_type": "code",
   "execution_count": null,
   "metadata": {},
   "outputs": [],
   "source": []
  }
 ],
 "metadata": {
  "kernelspec": {
   "display_name": "Python 3",
   "language": "python",
   "name": "python3"
  },
  "language_info": {
   "codemirror_mode": {
    "name": "ipython",
    "version": 3
   },
   "file_extension": ".py",
   "mimetype": "text/x-python",
   "name": "python",
   "nbconvert_exporter": "python",
   "pygments_lexer": "ipython3",
   "version": "3.8.3"
  }
 },
 "nbformat": 4,
 "nbformat_minor": 4
}
