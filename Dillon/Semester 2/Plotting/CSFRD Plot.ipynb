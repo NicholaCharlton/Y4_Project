{
 "cells": [
  {
   "cell_type": "code",
   "execution_count": 1,
   "metadata": {},
   "outputs": [],
   "source": [
    "import h5py\n",
    "import numpy as np\n",
    "import matplotlib.pyplot as plt\n",
    "import matplotlib as mpl\n",
    "import pandas as pd\n",
    "import scipy.integrate as spi\n",
    "import scipy.integrate\n",
    "from scipy.optimize import fminbound\n",
    "import matplotlib.ticker as ticker"
   ]
  },
  {
   "cell_type": "code",
   "execution_count": 2,
   "metadata": {},
   "outputs": [],
   "source": [
    "plt.rc('text', usetex=False)\n",
    "plt.rc('font', family='serif')\n",
    "plt.rcParams.update({'font.size': 14})\n",
    "plt.rcParams['axes.linewidth'] = 2"
   ]
  },
  {
   "cell_type": "code",
   "execution_count": null,
   "metadata": {},
   "outputs": [],
   "source": []
  },
  {
   "cell_type": "code",
   "execution_count": 3,
   "metadata": {},
   "outputs": [],
   "source": [
    "@np.vectorize\n",
    "def approxZ(LB, omega0, omega1, hubble):\n",
    "    \"\"\"Internal function to convert a redshift into a lookback time.\n",
    "\n",
    "    Parameters:\n",
    "    LB : float\n",
    "        lookback time in yrs\n",
    "    omega0 : float\n",
    "        the matter density parameter (0.3111 Planck 2018)\n",
    "    omega1 : float\n",
    "        The dark energy density parameter (0.6889 Planck 2018)\n",
    "    hubble : float\n",
    "        the hubble parameter (0.6766 Planck 2018)\n",
    "    \"\"\"\n",
    "    zmin = 1e-8\n",
    "    zmax = 1000\n",
    "    ztol = 1e-8\n",
    "    maxfun = 5000\n",
    "    f = lambda z : abs(calc_LB(z, omega0, omega1, hubble) - LB)\n",
    "\n",
    "    z, _, _, _ = fminbound(f, zmin, zmax, maxfun=maxfun, full_output=1, xtol=ztol)\n",
    "    return z"
   ]
  },
  {
   "cell_type": "code",
   "execution_count": 4,
   "metadata": {},
   "outputs": [],
   "source": [
    "@np.vectorize\n",
    "def calc_LB(z, omega0, omega1, hubble):\n",
    "    '''\n",
    "    Calculates the lookback time according to Hobbs.\n",
    "\n",
    "    Parameters:\n",
    "    z : float\n",
    "        The redshift at which you want to calculate the lookback\n",
    "    omega0 : float\n",
    "        The Matter density parameter (0.3111 Planck 2018)\n",
    "    omega1 : float\n",
    "        The dark energy density parameter (0.6889 Planck 2018)\n",
    "    hubble : float\n",
    "        The hubble parameters (0.6766 Planck 2018)\n",
    "    '''\n",
    "    def func(x):\n",
    "        E = np.sqrt(omega0*(1+x)**3 + omega1)\n",
    "        return 1/((1+x)*E)\n",
    "    # can be simplified by already doing the extra coefficient calculations\n",
    "    t_hubble = (1/(100*hubble))*3.0856776*10**19\n",
    "    return t_hubble *scipy.integrate.quad(func, 0, z)[0]/(60*60*24*365.2388526*1e9)\n"
   ]
  },
  {
   "cell_type": "code",
   "execution_count": 5,
   "metadata": {},
   "outputs": [],
   "source": [
    "h = 0.6766\n",
    "omega_M = 0.3111\n",
    "omega_L = 0.6889"
   ]
  },
  {
   "cell_type": "code",
   "execution_count": 7,
   "metadata": {},
   "outputs": [
    {
     "data": {
      "image/png": "[encoded data removed]",
      "text/plain": [
       "<Figure size 432x288 with 2 Axes>"
      ]
     },
     "metadata": {
      "needs_background": "light"
     },
     "output_type": "display_data"
    }
   ],
   "source": [
    "plt.xlim(0, 17)\n",
    "plt.ylim(6e-4, 3e-1)\n",
    "plt.yscale('log')\n",
    "plt.ylabel(r\"CSFRD [M$_\\odot$ yr$^{-1}$ Mpc$^{-3}$]\", labelpad=10)\n",
    "plt.xlabel('Redshift', labelpad=10)\n",
    "\n",
    "ax = plt.gca()\n",
    "\n",
    "ax.yaxis.set_tick_params(which='major', size=10, width=2, direction='in', right=True)\n",
    "ax.yaxis.set_tick_params(which='minor', size=7, width=2, direction='in', right=True)\n",
    "\n",
    "ax.yaxis.set_major_locator(mpl.ticker.LogLocator(base=10, numticks=12))\n",
    "\n",
    "ax.yaxis.set_tick_params(which='both', right=False)\n",
    "\n",
    "ax.xaxis.set_tick_params(which='major', size=10, width=2, direction='in', top='on')\n",
    "ax.xaxis.set_tick_params(which='minor', size=7, width=2, direction='in', top='on')\n",
    "\n",
    "ax.xaxis.set_major_locator(mpl.ticker.MultipleLocator(2))\n",
    "ax.xaxis.set_minor_locator(mpl.ticker.MultipleLocator(1))\n",
    "\n",
    "ax2 = ax.twiny()\n",
    "ax2.xaxis.set_tick_params(which='major', size=10, width=2, direction='in')\n",
    "ax2.xaxis.set_tick_params(which='minor', size=7, width=2, direction='in')\n",
    "ax2.set_xlim(0, 17)\n",
    "LB_values = np.array([1, 10, 12, 13, 13.5])\n",
    "ax2.xaxis.set_major_locator(mpl.ticker.FixedLocator(approxZ(LB_values, omega_M, omega_L, h)))\n",
    "ax2.set_xticklabels([\"1\", \"10\", \"12\", \"13\", \"13.5\"])\n",
    "ax2.set_xlabel('Lookback Time [Gyr]', labelpad=10)\n",
    "\n",
    "plt.show()\n"
   ]
  },
  {
   "cell_type": "code",
   "execution_count": null,
   "metadata": {},
   "outputs": [],
   "source": []
  }
 ],
 "metadata": {
  "kernelspec": {
   "display_name": "Python 3",
   "language": "python",
   "name": "python3"
  },
  "language_info": {
   "codemirror_mode": {
    "name": "ipython",
    "version": 3
   },
   "file_extension": ".py",
   "mimetype": "text/x-python",
   "name": "python",
   "nbconvert_exporter": "python",
   "pygments_lexer": "ipython3",
   "version": "3.8.3"
  }
 },
 "nbformat": 4,
 "nbformat_minor": 4
}
