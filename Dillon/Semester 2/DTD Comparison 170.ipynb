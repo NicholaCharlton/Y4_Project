{
 "cells": [
  {
   "cell_type": "markdown",
   "metadata": {},
   "source": [
    "# Transient Rates Using BPASS Data"
   ]
  },
  {
   "cell_type": "markdown",
   "metadata": {},
   "source": [
    "Using BPASS v2.2.1 (specifically bpass_v2.2.1_imf170_300)\n",
    "\n",
    "The transient rates plotted correspond to the stellar populations that include binary systems for a standard (Salpeter) IMF with slope -1.35 from 0.1 to 0.5 M$_{\\odot}$ and a maximum mass of 300 solar masses "
   ]
  },
  {
   "cell_type": "markdown",
   "metadata": {},
   "source": [
    "#### Imports"
   ]
  },
  {
   "cell_type": "code",
   "execution_count": 2,
   "metadata": {},
   "outputs": [],
   "source": [
    "from hoki import load\n",
    "import numpy as np \n",
    "import pandas as pd\n",
    "import matplotlib.pyplot as plt\n",
    "import h5py"
   ]
  },
  {
   "cell_type": "code",
   "execution_count": 3,
   "metadata": {},
   "outputs": [],
   "source": [
    "event_types = ['Ia', 'IIP', 'II', 'Ib', 'Ic', 'LGRB' , 'PISNe']"
   ]
  },
  {
   "cell_type": "code",
   "execution_count": 4,
   "metadata": {},
   "outputs": [],
   "source": [
    "met = ['zem5', 'zem4', 'z001', 'z002', 'z003', 'z004', 'z006', 'z008', 'z010', 'z014', 'z020', 'z030', 'z040']"
   ]
  },
  {
   "cell_type": "code",
   "execution_count": 5,
   "metadata": {},
   "outputs": [],
   "source": [
    "path_briel = \"/Users/dillon/Desktop\"\n",
    "file_briel = h5py.File(f\"{path_briel}/data.h5\", \"r\")\n",
    "DTD_briel = file_briel[\"DTD\"]\n",
    "\n",
    "\n",
    "Z1 = \"z001\" \n",
    "Z2 = \"z020\" \n",
    "\n",
    "\n",
    "\n",
    "\n",
    "event_total = {}\n",
    "for i in (Z1, Z2):\n",
    "    event_total[i] = {}\n",
    "    for j in event_types:\n",
    "        event_total[i][j] = DTD_briel[j][i][:]\n",
    "    event_total[i][\"CCSN\"] = event_total[i][\"II\"] + event_total[i][\"Ib\"] + event_total[i][\"Ic\"] + event_total[i][\"IIP\"]\n",
    "\n",
    "\n",
    "x1 = event_total[Z1]\n",
    "x2 = event_total[Z2]\n"
   ]
  },
  {
   "cell_type": "markdown",
   "metadata": {},
   "source": [
    "#### Loading in data and initial set up "
   ]
  },
  {
   "cell_type": "code",
   "execution_count": 6,
   "metadata": {},
   "outputs": [],
   "source": [
    "path = '/Users/dillon/Desktop/bpass_v2.2.1_imf170_300'\n",
    "\n",
    "bin_rates_z_1 = load.model_output(f'{path}/supernova-bin-imf170_300.zem4.dat')\n",
    "bin_rates_z_2 = load.model_output(f'{path}/supernova-bin-imf170_300.zem5.dat')\n",
    "bin_rates_z_3 = load.model_output(f'{path}/supernova-bin-imf170_300.z001.dat')\n",
    "bin_rates_z_4 = load.model_output(f'{path}/supernova-bin-imf170_300.z002.dat')\n",
    "bin_rates_z_5 = load.model_output(f'{path}/supernova-bin-imf170_300.z003.dat')\n",
    "bin_rates_z_6 = load.model_output(f'{path}/supernova-bin-imf170_300.z004.dat')\n",
    "bin_rates_z_7 = load.model_output(f'{path}/supernova-bin-imf170_300.z006.dat')\n",
    "bin_rates_z_8 = load.model_output(f'{path}/supernova-bin-imf170_300.z008.dat')\n",
    "bin_rates_z_9 = load.model_output(f'{path}/supernova-bin-imf170_300.z010.dat')\n",
    "bin_rates_z_10 = load.model_output(f'{path}/supernova-bin-imf170_300.z014.dat')\n",
    "bin_rates_z_11 = load.model_output(f'{path}/supernova-bin-imf170_300.z020.dat')\n",
    "bin_rates_z_12 = load.model_output(f'{path}/supernova-bin-imf170_300.z030.dat')\n",
    "bin_rates_z_13 = load.model_output(f'{path}/supernova-bin-imf170_300.z040.dat')\n"
   ]
  },
  {
   "cell_type": "code",
   "execution_count": 7,
   "metadata": {},
   "outputs": [],
   "source": [
    "age_z_1 = bin_rates_z_1.log_age.values\n",
    "bin_size_z_1 = bin_rates_z_1.age_yrs.values\n",
    "\n",
    "age_z_2 = bin_rates_z_2.log_age.values\n",
    "bin_size_z_2 = bin_rates_z_2.age_yrs.values\n",
    "\n",
    "age_z_3 = bin_rates_z_3.log_age.values\n",
    "bin_size_z_3 = bin_rates_z_3.age_yrs.values\n",
    "\n",
    "age_z_4 = bin_rates_z_4.log_age.values\n",
    "bin_size_z_4 = bin_rates_z_4.age_yrs.values\n",
    "\n",
    "age_z_5 = bin_rates_z_5.log_age.values\n",
    "bin_size_z_5 = bin_rates_z_5.age_yrs.values\n",
    "\n",
    "age_z_6 = bin_rates_z_6.log_age.values\n",
    "bin_size_z_6 = bin_rates_z_6.age_yrs.values\n",
    "\n",
    "age_z_7 = bin_rates_z_7.log_age.values\n",
    "bin_size_z_7 = bin_rates_z_7.age_yrs.values\n",
    "\n",
    "age_z_8 = bin_rates_z_8.log_age.values\n",
    "bin_size_z_8 = bin_rates_z_8.age_yrs.values\n",
    "\n",
    "age_z_9 = bin_rates_z_9.log_age.values\n",
    "bin_size_z_9 = bin_rates_z_9.age_yrs.values\n",
    "\n",
    "age_z_10 = bin_rates_z_10.log_age.values\n",
    "bin_size_z_10 = bin_rates_z_10.age_yrs.values\n",
    "\n",
    "age_z_11 = bin_rates_z_11.log_age.values\n",
    "bin_size_z_11 = bin_rates_z_11.age_yrs.values\n",
    "\n",
    "age_z_12 = bin_rates_z_12.log_age.values\n",
    "bin_size_z_12 = bin_rates_z_12.age_yrs.values\n",
    "\n",
    "age_z_13 = bin_rates_z_13.log_age.values\n",
    "bin_size_z_13 = bin_rates_z_13.age_yrs.values\n"
   ]
  },
  {
   "cell_type": "markdown",
   "metadata": {},
   "source": [
    "#### Units"
   ]
  },
  {
   "cell_type": "markdown",
   "metadata": {},
   "source": [
    "Want the rates to be plotted as **events/M$_{\\odot}$/year** so there is a need to normalise by the total mass and the number of years in each time bin\n",
    "\n",
    "BPASS calculates stellat populations with 10$^6$ M$_{\\odot}$ "
   ]
  },
  {
   "cell_type": "code",
   "execution_count": 8,
   "metadata": {},
   "outputs": [],
   "source": [
    "Ia_zem5 = bin_rates_z_1.Ia.values /bin_size_z_1/(10**6)\n",
    "IIP_zem5 = bin_rates_z_1.IIP.values /bin_size_z_1/(10**6)\n",
    "II_zem5 = bin_rates_z_1.II.values /bin_size_z_1/(10**6)\n",
    "Ib_zem5 = bin_rates_z_1.Ib.values /bin_size_z_1/(10**6)\n",
    "Ic_zem5 = bin_rates_z_1.Ic.values /bin_size_z_1/(10**6)\n",
    "LGRB_zem5 = bin_rates_z_1.LGRB.values /bin_size_z_1/(10**6)\n",
    "PISNe_zem5 = bin_rates_z_1.PISNe.values/bin_size_z_1/(10**6)\n",
    "\n",
    "Ia_zem4 = bin_rates_z_2.Ia.values /bin_size_z_2/(10**6)\n",
    "IIP_zem4 = bin_rates_z_2.IIP.values / bin_size_z_2 / (10**6)\n",
    "II_zem4 = bin_rates_z_2.II.values / bin_size_z_2 / (10**6)\n",
    "Ib_zem4 = bin_rates_z_2.Ib.values / bin_size_z_2 / (10**6)\n",
    "Ic_zem4 = bin_rates_z_2.Ic.values / bin_size_z_2 / (10**6)\n",
    "LGRB_zem4 = bin_rates_z_2.LGRB.values / bin_size_z_2 / (10**6)\n",
    "PISNe_zem4 = bin_rates_z_2.PISNe.values / bin_size_z_2 / (10**6)\n",
    "\n",
    "Ia_z001 = bin_rates_z_3.Ia.values /bin_size_z_3/(10**6)\n",
    "IIP_z001 = bin_rates_z_3.IIP.values / bin_size_z_3 / (10**6)\n",
    "II_z001 = bin_rates_z_3.II.values / bin_size_z_3 / (10**6)\n",
    "Ib_z001 = bin_rates_z_3.Ib.values / bin_size_z_3 / (10**6)\n",
    "Ic_z001 = bin_rates_z_3.Ic.values / bin_size_z_3 / (10**6)\n",
    "LGRB_z001 = bin_rates_z_3.LGRB.values / bin_size_z_3 / (10**6)\n",
    "PISNe_z001 = bin_rates_z_3.PISNe.values / bin_size_z_3 / (10**6)\n",
    "\n",
    "Ia_z002 = bin_rates_z_4.Ia.values /bin_size_z_4/(10**6)\n",
    "IIP_z002 = bin_rates_z_4.IIP.values / bin_size_z_4 / (10**6)\n",
    "II_z002 = bin_rates_z_4.II.values / bin_size_z_4 / (10**6)\n",
    "Ib_z002 = bin_rates_z_4.Ib.values / bin_size_z_4 / (10**6)\n",
    "Ic_z002 = bin_rates_z_4.Ic.values / bin_size_z_4 / (10**6)\n",
    "LGRB_z002 = bin_rates_z_4.LGRB.values / bin_size_z_4 / (10**6)\n",
    "PISNe_z002 = bin_rates_z_4.PISNe.values / bin_size_z_4 / (10**6)\n",
    "\n",
    "Ia_z003 = bin_rates_z_5.Ia.values /bin_size_z_5/(10**6)\n",
    "IIP_z003 = bin_rates_z_5.IIP.values / bin_size_z_5 / (10**6)\n",
    "II_z003 = bin_rates_z_5.II.values / bin_size_z_5 / (10**6)\n",
    "Ib_z003 = bin_rates_z_5.Ib.values / bin_size_z_5 / (10**6)\n",
    "Ic_z003 = bin_rates_z_5.Ic.values / bin_size_z_5 / (10**6)\n",
    "LGRB_z003 = bin_rates_z_5.LGRB.values / bin_size_z_5 / (10**6)\n",
    "PISNe_z003 = bin_rates_z_5.PISNe.values / bin_size_z_5 / (10**6)\n",
    "\n",
    "Ia_z004 = bin_rates_z_6.Ia.values /bin_size_z_6/(10**6)\n",
    "IIP_z004 = bin_rates_z_6.IIP.values / bin_size_z_6 / (10**6)\n",
    "II_z004 = bin_rates_z_6.II.values / bin_size_z_6 / (10**6)\n",
    "Ib_z004 = bin_rates_z_6.Ib.values / bin_size_z_6 / (10**6)\n",
    "Ic_z004 = bin_rates_z_6.Ic.values / bin_size_z_6 / (10**6)\n",
    "LGRB_z004 = bin_rates_z_6.LGRB.values / bin_size_z_6 / (10**6)\n",
    "PISNe_z004 = bin_rates_z_6.PISNe.values / bin_size_z_6 / (10**6)\n",
    "\n",
    "Ia_z006 = bin_rates_z_7.Ia.values /bin_size_z_7/(10**6)\n",
    "IIP_z006 = bin_rates_z_7.IIP.values / bin_size_z_7 / (10**6)\n",
    "II_z006 = bin_rates_z_7.II.values / bin_size_z_7 / (10**6)\n",
    "Ib_z006 = bin_rates_z_7.Ib.values / bin_size_z_7 / (10**6)\n",
    "Ic_z006 = bin_rates_z_7.Ic.values / bin_size_z_7 / (10**6)\n",
    "LGRB_z006 = bin_rates_z_7.LGRB.values / bin_size_z_7 / (10**6)\n",
    "PISNe_z006 = bin_rates_z_7.PISNe.values / bin_size_z_7 / (10**6)\n",
    "\n",
    "Ia_z008 = bin_rates_z_8.Ia.values /bin_size_z_8/(10**6)\n",
    "IIP_z008 = bin_rates_z_8.IIP.values / bin_size_z_8 / (10**6)\n",
    "II_z008 = bin_rates_z_8.II.values / bin_size_z_8 / (10**6)\n",
    "Ib_z008 = bin_rates_z_8.Ib.values / bin_size_z_8 / (10**6)\n",
    "Ic_z008 = bin_rates_z_8.Ic.values / bin_size_z_8 / (10**6)\n",
    "LGRB_z008 = bin_rates_z_8.LGRB.values / bin_size_z_8 / (10**6)\n",
    "PISNe_z008 = bin_rates_z_8.PISNe.values / bin_size_z_8 / (10**6)\n",
    "\n",
    "Ia_z010 = bin_rates_z_9.Ia.values /bin_size_z_9/(10**6)\n",
    "IIP_z010 = bin_rates_z_9.IIP.values / bin_size_z_9 / (10**6)\n",
    "II_z010 = bin_rates_z_9.II.values / bin_size_z_9 / (10**6)\n",
    "Ib_z010 = bin_rates_z_9.Ib.values / bin_size_z_9 / (10**6)\n",
    "Ic_z010 = bin_rates_z_9.Ic.values / bin_size_z_9 / (10**6)\n",
    "LGRB_z010 = bin_rates_z_9.LGRB.values / bin_size_z_9 / (10**6)\n",
    "PISNe_z010 = bin_rates_z_9.PISNe.values / bin_size_z_9 / (10**6)\n",
    "\n",
    "Ia_z014= bin_rates_z_10.Ia.values /bin_size_z_10/(10**6)\n",
    "IIP_z014 = bin_rates_z_10.IIP.values / bin_size_z_10 / (10**6)\n",
    "II_z014 = bin_rates_z_10.II.values / bin_size_z_10 / (10**6)\n",
    "Ib_z014 = bin_rates_z_10.Ib.values / bin_size_z_10 / (10**6)\n",
    "Ic_z014 = bin_rates_z_10.Ic.values / bin_size_z_10 / (10**6)\n",
    "LGRB_z014 = bin_rates_z_10.LGRB.values / bin_size_z_10 / (10**6)\n",
    "PISNe_z014 = bin_rates_z_10.PISNe.values / bin_size_z_10 / (10**6)\n",
    "\n",
    "Ia_z020 = bin_rates_z_11.Ia.values /bin_size_z_11/(10**6)\n",
    "IIP_z020 = bin_rates_z_11.IIP.values / bin_size_z_11 / (10**6)\n",
    "II_z020 = bin_rates_z_11.II.values / bin_size_z_11 / (10**6)\n",
    "Ib_z020 = bin_rates_z_11.Ib.values / bin_size_z_11 / (10**6)\n",
    "Ic_z020 = bin_rates_z_11.Ic.values / bin_size_z_11 / (10**6)\n",
    "LGRB_z020 = bin_rates_z_11.LGRB.values / bin_size_z_11 / (10**6)\n",
    "PISNe_z020 = bin_rates_z_11.PISNe.values / bin_size_z_11 / (10**6)\n",
    "\n",
    "Ia_z030 = bin_rates_z_12.Ia.values /bin_size_z_12/(10**6)\n",
    "IIP_z030 = bin_rates_z_12.IIP.values / bin_size_z_12 / (10**6)\n",
    "II_z030 = bin_rates_z_12.II.values / bin_size_z_12 / (10**6)\n",
    "Ib_z030 = bin_rates_z_12.Ib.values / bin_size_z_12 / (10**6)\n",
    "Ic_z030 = bin_rates_z_12.Ic.values / bin_size_z_12 / (10**6)\n",
    "LGRB_z030 = bin_rates_z_12.LGRB.values / bin_size_z_12 / (10**6)\n",
    "PISNe_z030 = bin_rates_z_12.PISNe.values / bin_size_z_12 / (10**6)\n",
    "\n",
    "Ia_z040 = bin_rates_z_13.Ia.values /bin_size_z_13/(10**6)\n",
    "IIP_z040 = bin_rates_z_13.IIP.values / bin_size_z_13 / (10**6)\n",
    "II_z040 = bin_rates_z_13.II.values / bin_size_z_13 / (10**6)\n",
    "Ib_z040 = bin_rates_z_13.Ib.values / bin_size_z_13 / (10**6)\n",
    "Ic_z040 = bin_rates_z_13.Ic.values / bin_size_z_13 / (10**6)\n",
    "LGRB_z040 = bin_rates_z_13.LGRB.values / bin_size_z_13 / (10**6)\n",
    "PISNe_z040 = bin_rates_z_13.PISNe.values / bin_size_z_13 / (10**6)\n"
   ]
  },
  {
   "cell_type": "code",
   "execution_count": 9,
   "metadata": {},
   "outputs": [],
   "source": [
    "output_path = \"/Users/dillon/Desktop/output_170.h5\"\n",
    "with h5py.File(output_path, 'w') as h5file:\n",
    "    for event_type in event_types:\n",
    "        event_group = h5file.create_group(event_type)\n",
    "        \n",
    "        for met_value in met:\n",
    "            dataset_name = f\"{event_type}_{met_value}\"\n",
    "            norm_values = globals()[f\"{event_type}_{met_value}\"]\n",
    "            \n",
    "            event_group.create_dataset(met_value, data=norm_values)"
   ]
  },
  {
   "cell_type": "code",
   "execution_count": 10,
   "metadata": {},
   "outputs": [],
   "source": [
    "DTD = h5py.File(output_path, 'r')"
   ]
  },
  {
   "cell_type": "markdown",
   "metadata": {},
   "source": [
    "##### Plotting"
   ]
  },
  {
   "cell_type": "code",
   "execution_count": 11,
   "metadata": {},
   "outputs": [],
   "source": [
    "x_axis = np.linspace(6.0, 11.0, 51)"
   ]
  },
  {
   "cell_type": "markdown",
   "metadata": {},
   "source": [
    "0.05 Solar Z"
   ]
  },
  {
   "cell_type": "code",
   "execution_count": 12,
   "metadata": {},
   "outputs": [
    {
     "data": {
      "text/plain": [
       "Text(0, 0.5, 'Event Rate (events/M$_{\\\\odot}$/year)')"
      ]
     },
     "execution_count": 12,
     "metadata": {},
     "output_type": "execute_result"
    },
    {
     "data": {
      "image/png": "[encoded data removed]",
      "text/plain": [
       "<Figure size 432x288 with 1 Axes>"
      ]
     },
     "metadata": {
      "needs_background": "light"
     },
     "output_type": "display_data"
    }
   ],
   "source": [
    "CCSN_z001 = {'z001': [0.0] * len(x_axis)}  \n",
    "\n",
    "for event_type in event_types:\n",
    "    if event_type in ['IIP', 'II', 'Ib', 'Ic']:\n",
    "        CCSN_z001['z001'] = [sum(x) for x in zip(CCSN_z001['z001'], DTD[event_type]['z001'])]\n",
    "    else:\n",
    "        plt.step(x_axis, DTD[event_type]['z001'], label=event_type, where='post')\n",
    "\n",
    "plt.step(x_axis, CCSN_z001['z001'], label='CCSN', where='post')\n",
    "\n",
    "plt.step(x_axis, x1['Ia'], '--', color = 'black', label = 'Original', where = 'post')\n",
    "plt.step(x_axis, x1['CCSN'], '--', color = 'black', where = 'post')\n",
    "plt.step(x_axis, x1['PISNe'], '--', color = 'black', where = 'post')\n",
    "plt.step(x_axis, x1['LGRB'], '--', color = 'black', where = 'post')\n",
    "\n",
    "plt.yscale(\"log\")\n",
    "plt.legend()\n",
    "plt.xlim(6, 11)\n",
    "plt.ylim(10**(-15), 10**(-9))\n",
    "plt.ylabel(r\"Event Rate (events/M$_{\\odot}$/year)\")\n"
   ]
  },
  {
   "cell_type": "markdown",
   "metadata": {},
   "source": [
    "z020"
   ]
  },
  {
   "cell_type": "code",
   "execution_count": 14,
   "metadata": {},
   "outputs": [
    {
     "data": {
      "text/plain": [
       "Text(0, 0.5, 'Event Rate (events/M$_{\\\\odot}$/year)')"
      ]
     },
     "execution_count": 14,
     "metadata": {},
     "output_type": "execute_result"
    },
    {
     "data": {
      "image/png": "[encoded data removed]",
      "text/plain": [
       "<Figure size 432x288 with 1 Axes>"
      ]
     },
     "metadata": {
      "needs_background": "light"
     },
     "output_type": "display_data"
    }
   ],
   "source": [
    "CCSN_z020 = {'z020': [0.0] * len(x_axis)}  \n",
    "\n",
    "for event_type in event_types:\n",
    "    if event_type in ['IIP', 'II', 'Ib', 'Ic']:\n",
    "        CCSN_z020['z020'] = [sum(x) for x in zip(CCSN_z020['z020'], DTD[event_type]['z020'])]\n",
    "    else:\n",
    "        plt.step(x_axis, DTD[event_type]['z020'], label=event_type, where='post')\n",
    "\n",
    "plt.step(x_axis, CCSN_z020['z020'], label='CCSN', where='post')\n",
    "\n",
    "plt.step(x_axis, x2['Ia'], '--', color = 'black', label = 'Original', where = 'post')\n",
    "plt.step(x_axis, x2['CCSN'], '--', color = 'black', where = 'post')\n",
    "plt.step(x_axis, x2['PISNe'], '--', color = 'black', where = 'post')\n",
    "plt.step(x_axis, x2['LGRB'], '--', color = 'black', where = 'post')\n",
    "\n",
    "#plt.text(9, 10**(-11), r\"Z=Z$_{\\odot}$\", fontsize=18)\n",
    "\n",
    "plt.yscale(\"log\")\n",
    "plt.legend()\n",
    "plt.xlim(6, 11)\n",
    "plt.ylim(10**(-15), 10**(-9))\n",
    "plt.ylabel(r\"Event Rate (events/M$_{\\odot}$/year)\")\n"
   ]
  },
  {
   "cell_type": "code",
   "execution_count": null,
   "metadata": {},
   "outputs": [],
   "source": []
  }
 ],
 "metadata": {
  "kernelspec": {
   "display_name": "Python 3",
   "language": "python",
   "name": "python3"
  },
  "language_info": {
   "codemirror_mode": {
    "name": "ipython",
    "version": 3
   },
   "file_extension": ".py",
   "mimetype": "text/x-python",
   "name": "python",
   "nbconvert_exporter": "python",
   "pygments_lexer": "ipython3",
   "version": "3.8.3"
  }
 },
 "nbformat": 4,
 "nbformat_minor": 4
}
