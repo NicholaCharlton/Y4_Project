{
 "cells": [
  {
   "cell_type": "code",
   "execution_count": 2,
   "metadata": {},
   "outputs": [],
   "source": [
    "import numpy as np\n",
    "import matplotlib.pyplot as plt\n",
    "from scipy.optimize import curve_fit"
   ]
  },
  {
   "cell_type": "code",
   "execution_count": 3,
   "metadata": {},
   "outputs": [],
   "source": [
    "harikane_redshift = np.array([9, 12, 16])\n",
    "harikane_data = np.array([-2.61, -3.23, -3.59])\n",
    "\n",
    "wyder_redshift = np.array([0.055])\n",
    "wyder_data = np.array([-1.82])\n",
    "\n",
    "schiminovich_redshift = np.array([0.3, 0.5, 0.7, 1.0])\n",
    "schiminovich_data = np.array([-1.5, -1.39, -1.20, -1.25])\n",
    "\n",
    "robotham_redshift = np.array([0.05])\n",
    "robotham_data = np.array([-1.77])\n",
    "\n",
    "cucciati_redshift= np.array([0.125, 0.3, 0.5, 0.7, 0.9, 1.1, 1.45, 2.1, 3.0, 4.0])\n",
    "cucciati_data = np.array([-1.75, -1.55, -1.44, -1.24, -0.99, -0.94, -0.95, -0.75, -1.04, -1.69])\n",
    "\n",
    "dahlen_redshift = np.array([1.125, 1.75, 2.225])\n",
    "dahlen_data = np.array([-1.02, -0.75, -0.87])\n",
    "\n",
    "reddy_redshift = np.array([2.3, 3.05])\n",
    "reddy_data = np.array([-0.75, -0.97])\n",
    "\n",
    "bouwens_redshift = np.array([3.8, 4.9, 5.9, 7.0, 7.9])\n",
    "bouwens_data = np.array([-1.29, -1.42, -1.65, -1.79, -2.09])\n",
    "\n",
    "schenker_redshift = np.array([7])\n",
    "schenker_data = np.array([-2.00])\n",
    "\n",
    "sanders_redshift = np.array([0.03])\n",
    "sanders_data = np.array([-1.72])\n",
    "\n",
    "magnelli11_redshift = np.array([0.55, 0.85, 1.15, 1.55, 2.05])\n",
    "magnelli11_data = np.array([-1.34, -0.96, -0.89, -0.91, -0.89])\n",
    "\n",
    "magnelli13_redshift = np.array([0.55, 0.85, 1.15, 1.55, 2.05])\n",
    "magnelli13_data = np.array([-1.22, -1.10, -0.96, -0.94, -0.8])\n",
    "\n",
    "gruppioni_redshift = np.array([0.15, 0.375, 0.525, 0.7, 0.9, 1.1, 1.45, 1.85, 2.25, 2.75, 3.6])\n",
    "gruppioni_data = np.array([-1.64, -1.42, -1.32, -1.14, -0.94, -0.81, -0.84, -0.86, -0.91, -0.86, -1.36])\n",
    "\n",
    "finkelstein_redshift = np.array([4, 5, 6, 7, 8])\n",
    "finkelstein_data = np.array([-1.59, -1.69, -1.97, -2.09, -2.20])\n",
    "\n",
    "mcleod23_redshift = np.array([11])\n",
    "mcleod23_data = np.array([25.15 - 27.93930216])\n",
    "\n",
    "mcleod23_tent_redshift = np.array([13.5])\n",
    "mcleod23_tent_data = np.array([24.54 - 27.93930216])\n",
    "\n",
    "pg23_redshift = np.array([9, 10.75, 12.12])\n",
    "pg23_data = np.array([-2.760325212, -2.812197361, -3.240332155])\n",
    "\n",
    "mcleod16_redshift = np.array([9, 10])\n",
    "mcleod16_data = np.array([-2.59, -2.76])\n",
    "\n",
    "oesch18_redshift = np.array([10])\n",
    "oesch18_data = np.array([-3.29])\n",
    "\n",
    "\n",
    "x_data = np.concatenate([\n",
    "    harikane_redshift, wyder_redshift, schiminovich_redshift, robotham_redshift,\n",
    "    cucciati_redshift, dahlen_redshift, reddy_redshift, bouwens_redshift,\n",
    "    schenker_redshift, sanders_redshift, magnelli11_redshift, magnelli13_redshift,\n",
    "    gruppioni_redshift, finkelstein_redshift, mcleod23_redshift, mcleod23_tent_redshift,\n",
    "    pg23_redshift, mcleod16_redshift, oesch18_redshift\n",
    "])\n",
    "\n",
    "y_data = np.concatenate([\n",
    "    harikane_data, wyder_data, schiminovich_data, robotham_data,\n",
    "    cucciati_data, dahlen_data, reddy_data, bouwens_data,\n",
    "    schenker_data, sanders_data, magnelli11_data, magnelli13_data,\n",
    "    gruppioni_data, finkelstein_data, mcleod23_data, mcleod23_tent_data,\n",
    "    pg23_data, mcleod16_data, oesch18_data\n",
    "])\n"
   ]
  },
  {
   "cell_type": "code",
   "execution_count": 7,
   "metadata": {},
   "outputs": [
    {
     "name": "stderr",
     "output_type": "stream",
     "text": [
      "<ipython-input-7-7489f4368201>:2: RuntimeWarning: invalid value encountered in log10\n",
      "  return np.log10(1 / (param1 * (1+z)**(param2) + param3 * 10**(param4*(1+z)) + param5 * 10**(param6*(1+z) - param7)))\n"
     ]
    },
    {
     "data": {
      "image/png": "[encoded data removed]",
      "text/plain": [
       "<Figure size 432x288 with 1 Axes>"
      ]
     },
     "metadata": {
      "needs_background": "light"
     },
     "output_type": "display_data"
    }
   ],
   "source": [
    "def model_function(z, param1, param2, param3, param4, param5, param6, param7):\n",
    "    return np.log10(1 / (param1 * (1+z)**(param2) + param3 * 10**(param4*(1+z)) + param5 * 10**(param6*(1+z) - param7)))\n",
    "\n",
    "\n",
    "z_data = x_data\n",
    "y_data = y_data\n",
    "\n",
    "initial_guess = [79, -3.8, 1.5, 0.23, 1.95, -24.2, 5.85]\n",
    "\n",
    "params, covariance = curve_fit(model_function, z_data, y_data, p0=initial_guess, maxfev=3000, method='trf')\n",
    "\n",
    "optimized_param1, optimized_param2, optimized_param3, optimized_param4, optimized_param5, optimized_param6, optimized_param7 = params\n",
    "\n",
    "#fit_curve = model_function(z_data, optimized_param1, optimized_param2, optimized_param3, optimized_param4, optimized_param5, optimized_param6, optimized_param7)\n",
    "\n",
    "plt.scatter(z_data, y_data, label='Original Data')\n",
    "#plt.plot(z_data, fit_curve, label='Fitted Curve', color='red')\n",
    "plt.legend()\n",
    "plt.show()\n"
   ]
  },
  {
   "cell_type": "code",
   "execution_count": 8,
   "metadata": {},
   "outputs": [
    {
     "data": {
      "text/plain": [
       "array([ 79.12605287,  -3.82336339,   1.46775571,   0.23035743,\n",
       "         1.95      , -24.2       ,   5.85      ])"
      ]
     },
     "execution_count": 8,
     "metadata": {},
     "output_type": "execute_result"
    }
   ],
   "source": [
    "params"
   ]
  },
  {
   "cell_type": "code",
   "execution_count": 5,
   "metadata": {},
   "outputs": [],
   "source": [
    "round_1 = np.array([ 79.12309187,  -3.82331429,   1.46776274,   0.23035722,\n",
    "         1.9549004 , -24.18363367,   5.85065337])"
   ]
  },
  {
   "cell_type": "code",
   "execution_count": null,
   "metadata": {},
   "outputs": [],
   "source": []
  }
 ],
 "metadata": {
  "kernelspec": {
   "display_name": "Python 3",
   "language": "python",
   "name": "python3"
  },
  "language_info": {
   "codemirror_mode": {
    "name": "ipython",
    "version": 3
   },
   "file_extension": ".py",
   "mimetype": "text/x-python",
   "name": "python",
   "nbconvert_exporter": "python",
   "pygments_lexer": "ipython3",
   "version": "3.8.3"
  }
 },
 "nbformat": 4,
 "nbformat_minor": 4
}
